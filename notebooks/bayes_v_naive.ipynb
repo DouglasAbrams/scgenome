{
 "cells": [
  {
   "cell_type": "code",
   "execution_count": 46,
   "metadata": {},
   "outputs": [
    {
     "data": {
      "text/html": [
       "<div>\n",
       "<style scoped>\n",
       "    .dataframe tbody tr th:only-of-type {\n",
       "        vertical-align: middle;\n",
       "    }\n",
       "\n",
       "    .dataframe tbody tr th {\n",
       "        vertical-align: top;\n",
       "    }\n",
       "\n",
       "    .dataframe thead th {\n",
       "        text-align: right;\n",
       "    }\n",
       "</style>\n",
       "<table border=\"1\" class=\"dataframe\">\n",
       "  <thead>\n",
       "    <tr style=\"text-align: right;\">\n",
       "      <th></th>\n",
       "      <th>samples_per_cluster</th>\n",
       "      <th>num_bin</th>\n",
       "      <th>max_cn</th>\n",
       "      <th>alpha</th>\n",
       "      <th>init_lambdas</th>\n",
       "      <th>jump_lambdas</th>\n",
       "      <th>cn_data</th>\n",
       "      <th>cn_mat</th>\n",
       "      <th>plinkage</th>\n",
       "      <th>plot_data</th>\n",
       "      <th>clustering</th>\n",
       "      <th>prop_correct</th>\n",
       "      <th>cell_id</th>\n",
       "      <th>naive_linkage</th>\n",
       "      <th>naive_root</th>\n",
       "      <th>naive_pwd</th>\n",
       "      <th>bhc_pwd</th>\n",
       "    </tr>\n",
       "  </thead>\n",
       "  <tbody>\n",
       "    <tr>\n",
       "      <th>0</th>\n",
       "      <td>8</td>\n",
       "      <td>100</td>\n",
       "      <td>4</td>\n",
       "      <td>0.1</td>\n",
       "      <td>[3, 1]</td>\n",
       "      <td>[1, 0.1]</td>\n",
       "      <td>{'chr': {'0': '1', '1': '1', '2': '1', '3': '1...</td>\n",
       "      <td>[[2, 1, 2, 3, 4, 4, 4, 3, 2, 3, 3, 4, 3, 3, 1,...</td>\n",
       "      <td>{'i': {'0': 8, '1': 9, '2': 16, '3': 13, '4': ...</td>\n",
       "      <td>[[8.0, 11.0, 386.3103338494, 2.0], [9.0, 12.0,...</td>\n",
       "      <td>{'sample_inds': {'0': 0, '1': 1, '2': 2, '3': ...</td>\n",
       "      <td>0.6250</td>\n",
       "      <td>[cl1_cell0, cl1_cell1, cl1_cell2, cl1_cell3, c...</td>\n",
       "      <td>[[9.0, 12.0, 28.0, 2.0], [8.0, 11.0, 28.0, 2.0...</td>\n",
       "      <td>{'count': 16, 'id': 30, 'left': {'count': 9, '...</td>\n",
       "      <td>[[0.0, 3.0, 4.0, 5.0, 4.0, 6.0, 4.0, 3.0, 4.0,...</td>\n",
       "      <td>[[0.0, 5.0, 7.0, 6.0, 3.0, 8.0, 2.0, 3.0, 4.0,...</td>\n",
       "    </tr>\n",
       "    <tr>\n",
       "      <th>1</th>\n",
       "      <td>8</td>\n",
       "      <td>100</td>\n",
       "      <td>4</td>\n",
       "      <td>0.1</td>\n",
       "      <td>[3, 1]</td>\n",
       "      <td>[1, 0.1]</td>\n",
       "      <td>{'chr': {'0': '1', '1': '1', '2': '1', '3': '1...</td>\n",
       "      <td>[[2, 2, 1, 2, 0, 1, 1, 0, 0, 3, 4, 4, 4, 4, 3,...</td>\n",
       "      <td>{'i': {'0': 11, '1': 16, '2': 8, '3': 0, '4': ...</td>\n",
       "      <td>[[11.0, 15.0, 547.5842067496, 2.0], [16.0, 13....</td>\n",
       "      <td>{'sample_inds': {'0': 0, '1': 1, '2': 2, '3': ...</td>\n",
       "      <td>0.6250</td>\n",
       "      <td>[cl1_cell0, cl1_cell1, cl1_cell2, cl1_cell3, c...</td>\n",
       "      <td>[[11.0, 15.0, 44.0, 2.0], [10.0, 14.0, 60.0, 2...</td>\n",
       "      <td>{'count': 16, 'id': 30, 'left': {'count': 2, '...</td>\n",
       "      <td>[[0.0, 2.0, 7.0, 2.0, 3.0, 1.0, 6.0, 1.0, 9.0,...</td>\n",
       "      <td>[[0.0, 2.0, 6.0, 8.0, 5.0, 1.0, 7.0, 5.0, 6.0,...</td>\n",
       "    </tr>\n",
       "    <tr>\n",
       "      <th>10</th>\n",
       "      <td>8</td>\n",
       "      <td>100</td>\n",
       "      <td>4</td>\n",
       "      <td>0.1</td>\n",
       "      <td>[3, 1]</td>\n",
       "      <td>[1, 0.1]</td>\n",
       "      <td>{'chr': {'0': '1', '1': '1', '2': '1', '3': '1...</td>\n",
       "      <td>[[6, 3, 0, 2, 2, 2, 2, 3, 4, 4, 3, 3, 1, 1, 1,...</td>\n",
       "      <td>{'i': {'0': 8, '1': 16, '2': 17, '3': 10, '4':...</td>\n",
       "      <td>[[8.0, 14.0, 695.92321076, 2.0], [16.0, 12.0, ...</td>\n",
       "      <td>{'sample_inds': {'0': 0, '1': 1, '2': 2, '3': ...</td>\n",
       "      <td>0.8125</td>\n",
       "      <td>[cl1_cell0, cl1_cell1, cl1_cell2, cl1_cell3, c...</td>\n",
       "      <td>[[8.0, 14.0, 55.0, 2.0], [9.0, 16.0, 63.0, 3.0...</td>\n",
       "      <td>{'count': 16, 'id': 30, 'left': {'count': 1, '...</td>\n",
       "      <td>[[0.0, 1.0, 2.0, 5.0, 4.0, 3.0, 1.0, 2.0, 10.0...</td>\n",
       "      <td>[[0.0, 5.0, 1.0, 5.0, 5.0, 5.0, 3.0, 0.0, 9.0,...</td>\n",
       "    </tr>\n",
       "    <tr>\n",
       "      <th>100</th>\n",
       "      <td>8</td>\n",
       "      <td>100</td>\n",
       "      <td>4</td>\n",
       "      <td>0.1</td>\n",
       "      <td>[3, 1]</td>\n",
       "      <td>[1, 0.1]</td>\n",
       "      <td>{'chr': {'0': '1', '1': '1', '2': '1', '3': '1...</td>\n",
       "      <td>[[2, 1, 1, 2, 2, 2, 4, 4, 4, 4, 4, 4, 4, 1, 1,...</td>\n",
       "      <td>{'i': {'0': 10, '1': 12, '2': 8, '3': 9, '4': ...</td>\n",
       "      <td>[[10.0, 15.0, 320.8487996169, 2.0], [12.0, 13....</td>\n",
       "      <td>{'sample_inds': {'0': 0, '1': 1, '2': 2, '3': ...</td>\n",
       "      <td>0.6250</td>\n",
       "      <td>[cl1_cell0, cl1_cell1, cl1_cell2, cl1_cell3, c...</td>\n",
       "      <td>[[10.0, 15.0, 36.0, 2.0], [12.0, 13.0, 51.0, 2...</td>\n",
       "      <td>{'count': 16, 'id': 30, 'left': {'count': 5, '...</td>\n",
       "      <td>[[0.0, 2.0, 2.0, 2.0, 3.0, 5.0, 3.0, 5.0, 4.0,...</td>\n",
       "      <td>[[0.0, 4.0, 1.0, 6.0, 5.0, 1.0, 5.0, 5.0, 3.0,...</td>\n",
       "    </tr>\n",
       "    <tr>\n",
       "      <th>101</th>\n",
       "      <td>8</td>\n",
       "      <td>100</td>\n",
       "      <td>4</td>\n",
       "      <td>0.1</td>\n",
       "      <td>[3, 1]</td>\n",
       "      <td>[1, 0.1]</td>\n",
       "      <td>{'chr': {'0': '1', '1': '1', '2': '1', '3': '1...</td>\n",
       "      <td>[[1, 0, 0, 0, 0, 0, 1, 0, 0, 0, 0, 0, 0, 2, 2,...</td>\n",
       "      <td>{'i': {'0': 10, '1': 8, '2': 16, '3': 17, '4':...</td>\n",
       "      <td>[[10.0, 14.0, 658.596253819, 2.0], [8.0, 11.0,...</td>\n",
       "      <td>{'sample_inds': {'0': 0, '1': 1, '2': 2, '3': ...</td>\n",
       "      <td>0.6250</td>\n",
       "      <td>[cl1_cell0, cl1_cell1, cl1_cell2, cl1_cell3, c...</td>\n",
       "      <td>[[11.0, 12.0, 62.0, 2.0], [8.0, 16.0, 63.0, 3....</td>\n",
       "      <td>{'count': 16, 'id': 30, 'left': {'count': 2, '...</td>\n",
       "      <td>[[0.0, 5.0, 2.0, 1.0, 6.0, 5.0, 3.0, 1.0, 5.0,...</td>\n",
       "      <td>[[0.0, 5.0, 1.0, 8.0, 7.0, 6.0, 2.0, 2.0, 3.0,...</td>\n",
       "    </tr>\n",
       "  </tbody>\n",
       "</table>\n",
       "</div>"
      ],
      "text/plain": [
       "     samples_per_cluster  num_bin  max_cn  alpha init_lambdas jump_lambdas  \\\n",
       "0                      8      100       4    0.1       [3, 1]     [1, 0.1]   \n",
       "1                      8      100       4    0.1       [3, 1]     [1, 0.1]   \n",
       "10                     8      100       4    0.1       [3, 1]     [1, 0.1]   \n",
       "100                    8      100       4    0.1       [3, 1]     [1, 0.1]   \n",
       "101                    8      100       4    0.1       [3, 1]     [1, 0.1]   \n",
       "\n",
       "                                               cn_data  \\\n",
       "0    {'chr': {'0': '1', '1': '1', '2': '1', '3': '1...   \n",
       "1    {'chr': {'0': '1', '1': '1', '2': '1', '3': '1...   \n",
       "10   {'chr': {'0': '1', '1': '1', '2': '1', '3': '1...   \n",
       "100  {'chr': {'0': '1', '1': '1', '2': '1', '3': '1...   \n",
       "101  {'chr': {'0': '1', '1': '1', '2': '1', '3': '1...   \n",
       "\n",
       "                                                cn_mat  \\\n",
       "0    [[2, 1, 2, 3, 4, 4, 4, 3, 2, 3, 3, 4, 3, 3, 1,...   \n",
       "1    [[2, 2, 1, 2, 0, 1, 1, 0, 0, 3, 4, 4, 4, 4, 3,...   \n",
       "10   [[6, 3, 0, 2, 2, 2, 2, 3, 4, 4, 3, 3, 1, 1, 1,...   \n",
       "100  [[2, 1, 1, 2, 2, 2, 4, 4, 4, 4, 4, 4, 4, 1, 1,...   \n",
       "101  [[1, 0, 0, 0, 0, 0, 1, 0, 0, 0, 0, 0, 0, 2, 2,...   \n",
       "\n",
       "                                              plinkage  \\\n",
       "0    {'i': {'0': 8, '1': 9, '2': 16, '3': 13, '4': ...   \n",
       "1    {'i': {'0': 11, '1': 16, '2': 8, '3': 0, '4': ...   \n",
       "10   {'i': {'0': 8, '1': 16, '2': 17, '3': 10, '4':...   \n",
       "100  {'i': {'0': 10, '1': 12, '2': 8, '3': 9, '4': ...   \n",
       "101  {'i': {'0': 10, '1': 8, '2': 16, '3': 17, '4':...   \n",
       "\n",
       "                                             plot_data  \\\n",
       "0    [[8.0, 11.0, 386.3103338494, 2.0], [9.0, 12.0,...   \n",
       "1    [[11.0, 15.0, 547.5842067496, 2.0], [16.0, 13....   \n",
       "10   [[8.0, 14.0, 695.92321076, 2.0], [16.0, 12.0, ...   \n",
       "100  [[10.0, 15.0, 320.8487996169, 2.0], [12.0, 13....   \n",
       "101  [[10.0, 14.0, 658.596253819, 2.0], [8.0, 11.0,...   \n",
       "\n",
       "                                            clustering  prop_correct  \\\n",
       "0    {'sample_inds': {'0': 0, '1': 1, '2': 2, '3': ...        0.6250   \n",
       "1    {'sample_inds': {'0': 0, '1': 1, '2': 2, '3': ...        0.6250   \n",
       "10   {'sample_inds': {'0': 0, '1': 1, '2': 2, '3': ...        0.8125   \n",
       "100  {'sample_inds': {'0': 0, '1': 1, '2': 2, '3': ...        0.6250   \n",
       "101  {'sample_inds': {'0': 0, '1': 1, '2': 2, '3': ...        0.6250   \n",
       "\n",
       "                                               cell_id  \\\n",
       "0    [cl1_cell0, cl1_cell1, cl1_cell2, cl1_cell3, c...   \n",
       "1    [cl1_cell0, cl1_cell1, cl1_cell2, cl1_cell3, c...   \n",
       "10   [cl1_cell0, cl1_cell1, cl1_cell2, cl1_cell3, c...   \n",
       "100  [cl1_cell0, cl1_cell1, cl1_cell2, cl1_cell3, c...   \n",
       "101  [cl1_cell0, cl1_cell1, cl1_cell2, cl1_cell3, c...   \n",
       "\n",
       "                                         naive_linkage  \\\n",
       "0    [[9.0, 12.0, 28.0, 2.0], [8.0, 11.0, 28.0, 2.0...   \n",
       "1    [[11.0, 15.0, 44.0, 2.0], [10.0, 14.0, 60.0, 2...   \n",
       "10   [[8.0, 14.0, 55.0, 2.0], [9.0, 16.0, 63.0, 3.0...   \n",
       "100  [[10.0, 15.0, 36.0, 2.0], [12.0, 13.0, 51.0, 2...   \n",
       "101  [[11.0, 12.0, 62.0, 2.0], [8.0, 16.0, 63.0, 3....   \n",
       "\n",
       "                                            naive_root  \\\n",
       "0    {'count': 16, 'id': 30, 'left': {'count': 9, '...   \n",
       "1    {'count': 16, 'id': 30, 'left': {'count': 2, '...   \n",
       "10   {'count': 16, 'id': 30, 'left': {'count': 1, '...   \n",
       "100  {'count': 16, 'id': 30, 'left': {'count': 5, '...   \n",
       "101  {'count': 16, 'id': 30, 'left': {'count': 2, '...   \n",
       "\n",
       "                                             naive_pwd  \\\n",
       "0    [[0.0, 3.0, 4.0, 5.0, 4.0, 6.0, 4.0, 3.0, 4.0,...   \n",
       "1    [[0.0, 2.0, 7.0, 2.0, 3.0, 1.0, 6.0, 1.0, 9.0,...   \n",
       "10   [[0.0, 1.0, 2.0, 5.0, 4.0, 3.0, 1.0, 2.0, 10.0...   \n",
       "100  [[0.0, 2.0, 2.0, 2.0, 3.0, 5.0, 3.0, 5.0, 4.0,...   \n",
       "101  [[0.0, 5.0, 2.0, 1.0, 6.0, 5.0, 3.0, 1.0, 5.0,...   \n",
       "\n",
       "                                               bhc_pwd  \n",
       "0    [[0.0, 5.0, 7.0, 6.0, 3.0, 8.0, 2.0, 3.0, 4.0,...  \n",
       "1    [[0.0, 2.0, 6.0, 8.0, 5.0, 1.0, 7.0, 5.0, 6.0,...  \n",
       "10   [[0.0, 5.0, 1.0, 5.0, 5.0, 5.0, 3.0, 0.0, 9.0,...  \n",
       "100  [[0.0, 4.0, 1.0, 6.0, 5.0, 1.0, 5.0, 5.0, 3.0,...  \n",
       "101  [[0.0, 5.0, 1.0, 8.0, 7.0, 6.0, 2.0, 2.0, 3.0,...  "
      ]
     },
     "execution_count": 46,
     "metadata": {},
     "output_type": "execute_result"
    }
   ],
   "source": [
    "import pandas as pd\n",
    "\n",
    "sim = pd.read_json(\"/Users/massoudmaher/data/100t_both_cl_ran_walk.json\")\n",
    "sim.head()"
   ]
  },
  {
   "cell_type": "code",
   "execution_count": 86,
   "metadata": {},
   "outputs": [
    {
     "data": {
      "text/plain": [
       "Index(['samples_per_cluster', 'num_bin', 'max_cn', 'alpha', 'init_lambdas',\n",
       "       'jump_lambdas', 'cn_data', 'cn_mat', 'plinkage', 'plot_data',\n",
       "       'clustering', 'prop_correct', 'cell_id', 'naive_linkage', 'naive_root',\n",
       "       'naive_pwd', 'bhc_pwd'],\n",
       "      dtype='object')"
      ]
     },
     "metadata": {},
     "output_type": "display_data"
    },
    {
     "name": "stdout",
     "output_type": "stream",
     "text": [
      "(400, 17)\n"
     ]
    }
   ],
   "source": [
    "def cast_n_sort(df_dict):\n",
    "    df = pd.DataFrame(df_dict)\n",
    "    df.index = df.index.astype(\"int\")\n",
    "    return df.sort_index()\n",
    "\n",
    "sim[\"cn_data\"] = [cast_n_sort(x) for x in sim[\"cn_data\"]]\n",
    "sim[\"plinkage\"] = [cast_n_sort(x) for x in sim[\"plinkage\"]]\n",
    "sim[\"clustering\"] = [cast_n_sort(x) for x in sim[\"clustering\"]]\n",
    "\n",
    "display(sim.columns)\n",
    "print(sim.shape)"
   ]
  },
  {
   "cell_type": "markdown",
   "metadata": {},
   "source": [
    "# Example clustering"
   ]
  },
  {
   "cell_type": "code",
   "execution_count": 100,
   "metadata": {},
   "outputs": [
    {
     "data": {
      "image/png": "[encoded data removed]",
      "text/plain": [
       "<Figure size 576x432 with 1 Axes>"
      ]
     },
     "metadata": {
      "needs_background": "light"
     },
     "output_type": "display_data"
    },
    {
     "data": {
      "image/png": "[encoded data removed]",
      "text/plain": [
       "<Figure size 576x432 with 1 Axes>"
      ]
     },
     "metadata": {
      "needs_background": "light"
     },
     "output_type": "display_data"
    }
   ],
   "source": [
    "# Bayesian hierarchical\n",
    "from scipy.cluster.hierarchy import dendrogram\n",
    "from scgenome.cncluster import bayesian_cluster\n",
    "from scgenome.simulation import get_plot_data\n",
    "import matplotlib.pyplot as plt\n",
    "import numpy as np\n",
    "\n",
    "eg_ind = 200\n",
    "cn_data = sim.loc[eg_ind,\"cn_data\"].copy()\n",
    "n_states = sim.loc[eg_ind,\"max_cn\"]\n",
    "alpha = sim.loc[eg_ind,\"alpha\"]\n",
    "bhc_linkage = sim.loc[eg_ind,\"plot_data\"]\n",
    "bhc_plinkage = sim.loc[eg_ind,\"plinkage\"]\n",
    "naive_linkage = sim.loc[eg_ind,\"naive_linkage\"]\n",
    "cluster_ids = list(pd.Series(sim.loc[eg_ind,\"cell_id\"]).str[2])\n",
    "\n",
    "fig = plt.figure(figsize=(8, 6))\n",
    "f = dendrogram(bhc_linkage, labels=cluster_ids)\n",
    "txt = fig.axes[0].set_title(\"Bayesian\")\n",
    "\n",
    "fig = plt.figure(figsize=(8, 6))\n",
    "f = dendrogram(naive_linkage, labels=cluster_ids)\n",
    "txt = fig.axes[0].set_title(\"Naive with city block\")"
   ]
  },
  {
   "cell_type": "markdown",
   "metadata": {},
   "source": [
    "# Parameters"
   ]
  },
  {
   "cell_type": "code",
   "execution_count": 89,
   "metadata": {},
   "outputs": [
    {
     "name": "stdout",
     "output_type": "stream",
     "text": [
      "samples_per_cluster\n",
      "8    400\n",
      "Name: samples_per_cluster, dtype: int64\n",
      "-------------------\n",
      "num_bin\n",
      "500    200\n",
      "100    200\n",
      "Name: num_bin, dtype: int64\n",
      "-------------------\n",
      "max_cn\n",
      "4    400\n",
      "Name: max_cn, dtype: int64\n",
      "-------------------\n",
      "alpha\n",
      "0.1    400\n",
      "Name: alpha, dtype: int64\n",
      "-------------------\n",
      "init_lambdas\n",
      "[3, 1]    400\n",
      "Name: init_lambdas, dtype: int64\n",
      "-------------------\n",
      "jump_lambdas\n",
      "[1, 0.1]    400\n",
      "Name: jump_lambdas, dtype: int64\n",
      "-------------------\n"
     ]
    }
   ],
   "source": [
    "for x in [\"samples_per_cluster\",\"num_bin\",\"max_cn\", \"alpha\",\"init_lambdas\",\"jump_lambdas\"]:\n",
    "    print(x)\n",
    "    print(sim[x].value_counts())\n",
    "    print(\"-------------------\")"
   ]
  },
  {
   "cell_type": "markdown",
   "metadata": {},
   "source": [
    "For ease, going to only use 500 bin"
   ]
  },
  {
   "cell_type": "code",
   "execution_count": 90,
   "metadata": {},
   "outputs": [],
   "source": [
    "sim = sim[sim[\"num_bin\"] == 500]"
   ]
  },
  {
   "cell_type": "code",
   "execution_count": 94,
   "metadata": {},
   "outputs": [
    {
     "name": "stderr",
     "output_type": "stream",
     "text": [
      "/Users/massoudmaher/Documents/Code/scgenome/venv/lib/python3.7/site-packages/scipy/stats/stats.py:1713: FutureWarning: Using a non-tuple sequence for multidimensional indexing is deprecated; use `arr[tuple(seq)]` instead of `arr[seq]`. In the future this will be interpreted as an array index, `arr[np.array(seq)]`, which will result either in an error or a different result.\n",
      "  return np.add.reduce(sorted[indexer] * weights, axis=axis) / sumval\n"
     ]
    },
    {
     "data": {
      "text/plain": [
       "Text(0.5,1,'Prop correct -- Bayesian')"
      ]
     },
     "execution_count": 94,
     "metadata": {},
     "output_type": "execute_result"
    },
    {
     "data": {
      "image/png": "[encoded data removed]",
      "text/plain": [
       "<Figure size 576x576 with 1 Axes>"
      ]
     },
     "metadata": {
      "needs_background": "light"
     },
     "output_type": "display_data"
    }
   ],
   "source": [
    "import seaborn as sns\n",
    "fig = plt.figure(figsize=(8,8))\n",
    "sns.distplot(sim[\"prop_correct\"])\n",
    "plt.title(\"Prop correct -- Bayesian\")"
   ]
  },
  {
   "cell_type": "code",
   "execution_count": 95,
   "metadata": {},
   "outputs": [],
   "source": [
    "bhc_sum_pwd = sims[\"bhc_pwd\"][0]\n",
    "naive_eg_pwd = sims[\"naive_pwd\"][0]"
   ]
  },
  {
   "cell_type": "markdown",
   "metadata": {},
   "source": [
    "# Correlation between -1*log(R) and cityblock distance"
   ]
  },
  {
   "cell_type": "code",
   "execution_count": 110,
   "metadata": {},
   "outputs": [
    {
     "data": {
      "text/plain": [
       "array([ 28.,  28.,  35.,  57.,  74.,  76., 118., 119., 120., 125., 128.,\n",
       "       132., 133., 137., 149.,  44.,  60.,  77.,  79.,  88., 104., 105.,\n",
       "       108., 111., 112., 126., 128., 140., 143., 149.])"
      ]
     },
     "execution_count": 110,
     "metadata": {},
     "output_type": "execute_result"
    }
   ],
   "source": [
    "#np.array(sims[\"naive_linkage\"][0])[:,2].shape\n",
    "np.concatenate([np.array(sims[\"naive_linkage\"][0])[:,2], np.array(sims[\"naive_linkage\"][1])[:,2]])"
   ]
  },
  {
   "cell_type": "code",
   "execution_count": 112,
   "metadata": {},
   "outputs": [
    {
     "data": {
      "text/plain": [
       "(400, 17)"
      ]
     },
     "execution_count": 112,
     "metadata": {},
     "output_type": "execute_result"
    }
   ],
   "source": [
    "all_naive = np.concatenate([np.array(x)[:,2] for x in sims[\"naive_linkage\"]])\n",
    "all_naive.shape\n",
    "sims.shape"
   ]
  },
  {
   "cell_type": "code",
   "execution_count": null,
   "metadata": {},
   "outputs": [],
   "source": []
  }
 ],
 "metadata": {
  "kernelspec": {
   "display_name": "myenv",
   "language": "python",
   "name": "myenv"
  },
  "language_info": {
   "codemirror_mode": {
    "name": "ipython",
    "version": 3
   },
   "file_extension": ".py",
   "mimetype": "text/x-python",
   "name": "python",
   "nbconvert_exporter": "python",
   "pygments_lexer": "ipython3",
   "version": "3.7.4"
  }
 },
 "nbformat": 4,
 "nbformat_minor": 4
}
