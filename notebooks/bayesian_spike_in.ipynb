{
 "cells": [
  {
   "cell_type": "code",
   "execution_count": 1,
   "metadata": {},
   "outputs": [],
   "source": [
    "from scgenome import tantalus\n",
    "import pandas as pd\n",
    "import scgenome.utils"
   ]
  },
  {
   "cell_type": "code",
   "execution_count": 2,
   "metadata": {},
   "outputs": [],
   "source": [
    "all_cn_data_fp = \"/Users/massoudmaher/data/SC_1936_1937_cn_data.csv\"\n",
    "all_cn_data = pd.read_csv(all_cn_data_fp)"
   ]
  },
  {
   "cell_type": "code",
   "execution_count": 3,
   "metadata": {},
   "outputs": [],
   "source": [
    "hmmcopy_tickets = ['SC-1936', 'SC-1937']\n",
    "sample_ids = [['SA921'], ['SA1090']]\n",
    "total_ncells = 20\n",
    "proportions = [0.6, 0.4]\n",
    "#def spike_in(num_cells, hmmcopy_tickets, sample_ids, cached=False,\n",
    "#             local_cache_directory=get_local_cache_dir(), proportions=None,\n",
    "#             id_field_name=CELL_ID, origin_field_name=ORIGIN_ID, seed=None):\n",
    "\n",
    "#results = tantalus.spike_in(total_ncells, hmmcopy_tickets, sample_ids, cached=True)"
   ]
  },
  {
   "cell_type": "code",
   "execution_count": 4,
   "metadata": {},
   "outputs": [
    {
     "name": "stderr",
     "output_type": "stream",
     "text": [
      "/Users/massoudmaher/Documents/Code/scgenome/scgenome/utils.py:169: SettingWithCopyWarning: \n",
      "A value is trying to be set on a copy of a slice from a DataFrame.\n",
      "Try using .loc[row_indexer,col_indexer] = value instead\n",
      "\n",
      "See the caveats in the documentation: http://pandas.pydata.org/pandas-docs/stable/indexing.html#indexing-view-versus-copy\n",
      "  jira_cn_data[origin_field_name] = hmmcopy_tickets[i]\n"
     ]
    }
   ],
   "source": [
    "subsample = scgenome.utils.get_cn_data_submixture(all_cn_data, total_ncells, hmmcopy_tickets, sample_ids, proportions=[0.6, 0.4])\n",
    "\n",
    "mixed_cn_data = subsample[\"mixed_cn_data\"]\n",
    "cell_counts = subsample[\"cell_counts\"]"
   ]
  },
  {
   "cell_type": "code",
   "execution_count": 5,
   "metadata": {},
   "outputs": [],
   "source": [
    "#bhc_linkage, bhc_root, bhc_cell_ids, matrix_data, measurement, variances = (\n",
    "#    cncluster.bayesian_cluster(mixed_cn_data, n_states=12, alpha=0.3, prob_cn_change=0.8)\n",
    "#)\n",
    "#def bayesian_cluster(cn_data,\n",
    "#                     n_states=MAX_CN, alpha=ALPHA,\n",
    "#                     prob_cn_change=0.8, value_ids=VALUE_IDS,\n",
    "#                     clustering_id=BHC_ID):\n",
    "#return linkage, clusters[0], cell_ids, matrix_data, measurement, variances"
   ]
  }
 ],
 "metadata": {
  "kernelspec": {
   "display_name": "scg",
   "language": "python",
   "name": "scg"
  },
  "language_info": {
   "codemirror_mode": {
    "name": "ipython",
    "version": 3
   },
   "file_extension": ".py",
   "mimetype": "text/x-python",
   "name": "python",
   "nbconvert_exporter": "python",
   "pygments_lexer": "ipython3",
   "version": "3.7.4"
  }
 },
 "nbformat": 4,
 "nbformat_minor": 4
}
