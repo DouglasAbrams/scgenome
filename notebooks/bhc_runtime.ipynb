{
 "cells": [
  {
   "cell_type": "code",
   "execution_count": 1,
   "metadata": {},
   "outputs": [],
   "source": [
    "from scgenome import tantalus\n",
    "import pandas as pd\n",
    "from IPython.display import display\n",
    "from scgenome import utils, cncluster, simulation, cnplot\n",
    "import scipy.cluster.hierarchy as sch\n",
    "import matplotlib.pyplot as plt\n",
    "import numpy as np\n",
    "import seaborn as sns\n",
    "import time\n",
    "import sklearn.metrics as skm"
   ]
  },
  {
   "cell_type": "code",
   "execution_count": 2,
   "metadata": {},
   "outputs": [],
   "source": [
    "all_cn_data_fp = \"/Users/massoudmaher/data/sc_1935_1936_1937_cn_data_qc.csv\"\n",
    "all_cn_data = pd.read_csv(all_cn_data_fp).iloc[:,1:]"
   ]
  },
  {
   "cell_type": "code",
   "execution_count": 3,
   "metadata": {},
   "outputs": [],
   "source": [
    "uniq_cells = pd.Series(np.unique(all_cn_data[\"cell_id\"]))\n",
    "ends = np.unique(all_cn_data[\"end\"])"
   ]
  },
  {
   "cell_type": "code",
   "execution_count": 4,
   "metadata": {},
   "outputs": [],
   "source": [
    "# bhc params\n",
    "n_states = 8\n",
    "alpha = 10\n",
    "prob_cn_change = 0.9"
   ]
  },
  {
   "cell_type": "code",
   "execution_count": 5,
   "metadata": {},
   "outputs": [],
   "source": [
    "n_cell = 10\n",
    "n_bin = 300\n",
    "\n",
    "keep_cells = list(uniq_cells.sample(n_cell))\n",
    "sub_cn = all_cn_data.loc[all_cn_data[\"cell_id\"].isin(keep_cells)]\n",
    "#sub_cn = sub_cn.loc[sub_cn[\"end\"] <= ends[n_bin]]"
   ]
  },
  {
   "cell_type": "code",
   "execution_count": 6,
   "metadata": {},
   "outputs": [],
   "source": [
    "def sub_cn_data(n_cell):\n",
    "    keep_cells = list(uniq_cells.sample(n_cell))\n",
    "    sub_cn = all_cn_data.loc[all_cn_data[\"cell_id\"].isin(keep_cells)]\n",
    "    return sub_cn"
   ]
  },
  {
   "cell_type": "code",
   "execution_count": 9,
   "metadata": {},
   "outputs": [],
   "source": [
    "n_cell = [20, 30]\n",
    "n_trial = 2\n",
    "\n",
    "n_cell = np.repeat(np.array(n_cell), n_trial)\n",
    "cn_datas = [sub_cn_data(nc) for nc in n_cell]\n",
    "\n",
    "def bhc_runtime(cnd):\n",
    "    start = time.time()\n",
    "    bhc_linkage, bhc_root, bhc_cell_ids, matrix_data, measurement, variances = (\n",
    "        cncluster.bayesian_cluster(cnd, n_states=n_states, alpha=alpha, prob_cn_same=prob_cn_change,\n",
    "                                   clustering_id=\"copy\")\n",
    "    )\n",
    "    return time.time()-start "
   ]
  },
  {
   "cell_type": "code",
   "execution_count": 10,
   "metadata": {},
   "outputs": [
    {
     "ename": "KeyboardInterrupt",
     "evalue": "",
     "output_type": "error",
     "traceback": [
      "\u001b[0;31m---------------------------------------------------------------------------\u001b[0m",
      "\u001b[0;31mKeyboardInterrupt\u001b[0m                         Traceback (most recent call last)",
      "\u001b[0;32m<ipython-input-10-4062ab06082e>\u001b[0m in \u001b[0;36m<module>\u001b[0;34m()\u001b[0m\n\u001b[0;32m----> 1\u001b[0;31m \u001b[0mruntimes\u001b[0m \u001b[0;34m=\u001b[0m \u001b[0;34m[\u001b[0m\u001b[0mbhc_runtime\u001b[0m\u001b[0;34m(\u001b[0m\u001b[0mcnd\u001b[0m\u001b[0;34m)\u001b[0m \u001b[0;32mfor\u001b[0m \u001b[0mcnd\u001b[0m \u001b[0;32min\u001b[0m \u001b[0mcn_datas\u001b[0m\u001b[0;34m]\u001b[0m\u001b[0;34m\u001b[0m\u001b[0;34m\u001b[0m\u001b[0m\n\u001b[0m",
      "\u001b[0;32m<ipython-input-10-4062ab06082e>\u001b[0m in \u001b[0;36m<listcomp>\u001b[0;34m(.0)\u001b[0m\n\u001b[0;32m----> 1\u001b[0;31m \u001b[0mruntimes\u001b[0m \u001b[0;34m=\u001b[0m \u001b[0;34m[\u001b[0m\u001b[0mbhc_runtime\u001b[0m\u001b[0;34m(\u001b[0m\u001b[0mcnd\u001b[0m\u001b[0;34m)\u001b[0m \u001b[0;32mfor\u001b[0m \u001b[0mcnd\u001b[0m \u001b[0;32min\u001b[0m \u001b[0mcn_datas\u001b[0m\u001b[0;34m]\u001b[0m\u001b[0;34m\u001b[0m\u001b[0;34m\u001b[0m\u001b[0m\n\u001b[0m",
      "\u001b[0;32m<ipython-input-9-95554f0eeada>\u001b[0m in \u001b[0;36mbhc_runtime\u001b[0;34m(cnd)\u001b[0m\n\u001b[1;32m      9\u001b[0m     bhc_linkage, bhc_root, bhc_cell_ids, matrix_data, measurement, variances = (\n\u001b[1;32m     10\u001b[0m         cncluster.bayesian_cluster(cnd, n_states=n_states, alpha=alpha, prob_cn_same=prob_cn_change,\n\u001b[0;32m---> 11\u001b[0;31m                                    clustering_id=\"copy\")\n\u001b[0m\u001b[1;32m     12\u001b[0m     )\n\u001b[1;32m     13\u001b[0m     \u001b[0;32mreturn\u001b[0m \u001b[0mtime\u001b[0m\u001b[0;34m.\u001b[0m\u001b[0mtime\u001b[0m\u001b[0;34m(\u001b[0m\u001b[0;34m)\u001b[0m\u001b[0;34m-\u001b[0m\u001b[0mstart\u001b[0m\u001b[0;34m\u001b[0m\u001b[0;34m\u001b[0m\u001b[0m\n",
      "\u001b[0;32m/Users/massoudmaher/Documents/Code/scgenome/scgenome/cncluster.py\u001b[0m in \u001b[0;36mbayesian_cluster\u001b[0;34m(cn_data, n_states, alpha, prob_cn_same, value_ids, clustering_id, debug, print_r)\u001b[0m\n\u001b[1;32m    234\u001b[0m                 \u001b[0mmerge_cluster\u001b[0m \u001b[0;34m=\u001b[0m \u001b[0mTNode\u001b[0m\u001b[0;34m(\u001b[0m\u001b[0mmerge_inds\u001b[0m\u001b[0;34m,\u001b[0m \u001b[0mleft_clst\u001b[0m\u001b[0;34m,\u001b[0m \u001b[0mright_clst\u001b[0m\u001b[0;34m,\u001b[0m \u001b[0;34m-\u001b[0m\u001b[0;36m1\u001b[0m\u001b[0;34m)\u001b[0m\u001b[0;34m\u001b[0m\u001b[0;34m\u001b[0m\u001b[0m\n\u001b[1;32m    235\u001b[0m                 merge_cluster.update_vars(measurement, variances, transmodel,\n\u001b[0;32m--> 236\u001b[0;31m                                           alpha)\n\u001b[0m\u001b[1;32m    237\u001b[0m                 \u001b[0mcluster_map\u001b[0m\u001b[0;34m[\u001b[0m\u001b[0mstr\u001b[0m\u001b[0;34m(\u001b[0m\u001b[0mmerge_inds\u001b[0m\u001b[0;34m)\u001b[0m\u001b[0;34m]\u001b[0m \u001b[0;34m=\u001b[0m \u001b[0mmerge_cluster\u001b[0m\u001b[0;34m\u001b[0m\u001b[0;34m\u001b[0m\u001b[0m\n\u001b[1;32m    238\u001b[0m             \u001b[0;32melse\u001b[0m\u001b[0;34m:\u001b[0m\u001b[0;34m\u001b[0m\u001b[0;34m\u001b[0m\u001b[0m\n",
      "\u001b[0;32m/Users/massoudmaher/Documents/Code/scgenome/scgenome/TNode.py\u001b[0m in \u001b[0;36mupdate_vars\u001b[0;34m(self, measurement, variances, transmodel, alpha)\u001b[0m\n\u001b[1;32m     31\u001b[0m     \u001b[0;32mdef\u001b[0m \u001b[0mupdate_vars\u001b[0m\u001b[0;34m(\u001b[0m\u001b[0mself\u001b[0m\u001b[0;34m,\u001b[0m \u001b[0mmeasurement\u001b[0m\u001b[0;34m,\u001b[0m \u001b[0mvariances\u001b[0m\u001b[0;34m,\u001b[0m \u001b[0mtransmodel\u001b[0m\u001b[0;34m,\u001b[0m \u001b[0malpha\u001b[0m\u001b[0;34m=\u001b[0m\u001b[0mALPHA\u001b[0m\u001b[0;34m)\u001b[0m\u001b[0;34m:\u001b[0m\u001b[0;34m\u001b[0m\u001b[0;34m\u001b[0m\u001b[0m\n\u001b[1;32m     32\u001b[0m         \u001b[0mself\u001b[0m\u001b[0;34m.\u001b[0m\u001b[0mupdate_pi_d\u001b[0m\u001b[0;34m(\u001b[0m\u001b[0malpha\u001b[0m\u001b[0;34m)\u001b[0m\u001b[0;34m\u001b[0m\u001b[0;34m\u001b[0m\u001b[0m\n\u001b[0;32m---> 33\u001b[0;31m         \u001b[0mself\u001b[0m\u001b[0;34m.\u001b[0m\u001b[0mupdate_ll\u001b[0m\u001b[0;34m(\u001b[0m\u001b[0mmeasurement\u001b[0m\u001b[0;34m,\u001b[0m \u001b[0mvariances\u001b[0m\u001b[0;34m,\u001b[0m \u001b[0mtransmodel\u001b[0m\u001b[0;34m)\u001b[0m\u001b[0;34m\u001b[0m\u001b[0;34m\u001b[0m\u001b[0m\n\u001b[0m\u001b[1;32m     34\u001b[0m         \u001b[0mself\u001b[0m\u001b[0;34m.\u001b[0m\u001b[0mupdate_tree_ll\u001b[0m\u001b[0;34m(\u001b[0m\u001b[0;34m)\u001b[0m\u001b[0;34m\u001b[0m\u001b[0;34m\u001b[0m\u001b[0m\n\u001b[1;32m     35\u001b[0m         \u001b[0mself\u001b[0m\u001b[0;34m.\u001b[0m\u001b[0mupdate_log_r\u001b[0m\u001b[0;34m(\u001b[0m\u001b[0;34m)\u001b[0m\u001b[0;34m\u001b[0m\u001b[0;34m\u001b[0m\u001b[0m\n",
      "\u001b[0;32m/Users/massoudmaher/Documents/Code/scgenome/scgenome/TNode.py\u001b[0m in \u001b[0;36mupdate_ll\u001b[0;34m(self, measurement, variances, transmodel)\u001b[0m\n\u001b[1;32m     62\u001b[0m         self.ll = calculate_marginal_ll_simple(\n\u001b[1;32m     63\u001b[0m             \u001b[0mmeasurement\u001b[0m\u001b[0;34m[\u001b[0m\u001b[0mself\u001b[0m\u001b[0;34m.\u001b[0m\u001b[0msample_inds\u001b[0m\u001b[0;34m,\u001b[0m \u001b[0;34m:\u001b[0m\u001b[0;34m]\u001b[0m\u001b[0;34m,\u001b[0m\u001b[0;34m\u001b[0m\u001b[0;34m\u001b[0m\u001b[0m\n\u001b[0;32m---> 64\u001b[0;31m             variances[self.sample_inds, :], transmodel)\n\u001b[0m\u001b[1;32m     65\u001b[0m \u001b[0;34m\u001b[0m\u001b[0m\n\u001b[1;32m     66\u001b[0m     \u001b[0;32mdef\u001b[0m \u001b[0mupdate_log_r\u001b[0m\u001b[0;34m(\u001b[0m\u001b[0mself\u001b[0m\u001b[0;34m)\u001b[0m\u001b[0;34m:\u001b[0m\u001b[0;34m\u001b[0m\u001b[0;34m\u001b[0m\u001b[0m\n",
      "\u001b[0;32m/Users/massoudmaher/Documents/Code/scgenome/scgenome/jointcnmodels.py\u001b[0m in \u001b[0;36mcalculate_marginal_ll_simple\u001b[0;34m(data, variances, transmodel)\u001b[0m\n\u001b[1;32m     50\u001b[0m             \u001b[0mbetas\u001b[0m\u001b[0;34m,\u001b[0m\u001b[0;34m\u001b[0m\u001b[0;34m\u001b[0m\u001b[0m\n\u001b[1;32m     51\u001b[0m             \u001b[0mtransmodel\u001b[0m\u001b[0;34m[\u001b[0m\u001b[0;34m'e0'\u001b[0m\u001b[0;34m]\u001b[0m\u001b[0;34m,\u001b[0m\u001b[0;34m\u001b[0m\u001b[0;34m\u001b[0m\u001b[0m\n\u001b[0;32m---> 52\u001b[0;31m             \u001b[0mtransmodel\u001b[0m\u001b[0;34m[\u001b[0m\u001b[0;34m'e1'\u001b[0m\u001b[0;34m]\u001b[0m\u001b[0;34m,\u001b[0m\u001b[0;34m\u001b[0m\u001b[0;34m\u001b[0m\u001b[0m\n\u001b[0m\u001b[1;32m     53\u001b[0m         )\n\u001b[1;32m     54\u001b[0m \u001b[0;34m\u001b[0m\u001b[0m\n",
      "\u001b[0;31mKeyboardInterrupt\u001b[0m: "
     ]
    }
   ],
   "source": [
    "runtimes = [bhc_runtime(cnd) for cnd in cn_datas]"
   ]
  },
  {
   "cell_type": "code",
   "execution_count": null,
   "metadata": {},
   "outputs": [],
   "source": [
    "results = pd.DataFrame({\"n_cell\": n_cell, \"runtime\":runtimes})\n",
    "results"
   ]
  },
  {
   "cell_type": "code",
   "execution_count": null,
   "metadata": {},
   "outputs": [],
   "source": [
    "plt.figure(figsize=(8,8))\n",
    "sns.scatterplot(data=results, x=\"n_cell\", y=\"runtime\")"
   ]
  },
  {
   "cell_type": "code",
   "execution_count": null,
   "metadata": {},
   "outputs": [],
   "source": []
  }
 ],
 "metadata": {
  "kernelspec": {
   "display_name": "scg",
   "language": "python",
   "name": "scg"
  },
  "language_info": {
   "codemirror_mode": {
    "name": "ipython",
    "version": 3
   },
   "file_extension": ".py",
   "mimetype": "text/x-python",
   "name": "python",
   "nbconvert_exporter": "python",
   "pygments_lexer": "ipython3",
   "version": "3.7.4"
  }
 },
 "nbformat": 4,
 "nbformat_minor": 4
}
