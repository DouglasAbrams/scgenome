{
 "cells": [
  {
   "cell_type": "code",
   "execution_count": 16,
   "metadata": {},
   "outputs": [
    {
     "name": "stderr",
     "output_type": "stream",
     "text": [
      "/Users/massoudmaher/Documents/Code/scgenome/scgenome/utils.py:56: SettingWithCopyWarning: \n",
      "A value is trying to be set on a copy of a slice from a DataFrame.\n",
      "Try using .loc[row_indexer,col_indexer] = value instead\n",
      "\n",
      "See the caveats in the documentation: http://pandas.pydata.org/pandas-docs/stable/indexing.html#indexing-view-versus-copy\n",
      "  df[col] = df[col].astype('category')\n",
      "/Users/massoudmaher/Documents/Code/scgenome/scgenome/utils.py:57: SettingWithCopyWarning: \n",
      "A value is trying to be set on a copy of a slice from a DataFrame.\n",
      "Try using .loc[row_indexer,col_indexer] = value instead\n",
      "\n",
      "See the caveats in the documentation: http://pandas.pydata.org/pandas-docs/stable/indexing.html#indexing-view-versus-copy\n",
      "  df[col] = df[col].cat.set_categories(col_categories[col])\n",
      "2019-09-07 13:43:20,169 - INFO - ff450a1e-7a41-4509-b21b-38ac5ec708a6 - TokenRequest:Getting token with client credentials.\n",
      "2019-09-07 13:43:20,372 - INFO - ff450a1e-7a41-4509-b21b-38ac5ec708a6 - OAuth2Client:Get Token Server returned this correlation_id: ff450a1e-7a41-4509-b21b-38ac5ec708a6\n"
     ]
    },
    {
     "name": "stdout",
     "output_type": "stream",
     "text": [
      "cn_data.head()\n"
     ]
    },
    {
     "data": {
      "text/html": [
       "<div>\n",
       "<style scoped>\n",
       "    .dataframe tbody tr th:only-of-type {\n",
       "        vertical-align: middle;\n",
       "    }\n",
       "\n",
       "    .dataframe tbody tr th {\n",
       "        vertical-align: top;\n",
       "    }\n",
       "\n",
       "    .dataframe thead th {\n",
       "        text-align: right;\n",
       "    }\n",
       "</style>\n",
       "<table border=\"1\" class=\"dataframe\">\n",
       "  <thead>\n",
       "    <tr style=\"text-align: right;\">\n",
       "      <th></th>\n",
       "      <th>chr</th>\n",
       "      <th>start</th>\n",
       "      <th>end</th>\n",
       "      <th>reads</th>\n",
       "      <th>gc</th>\n",
       "      <th>copy</th>\n",
       "      <th>state</th>\n",
       "      <th>cell_id</th>\n",
       "      <th>sample_id</th>\n",
       "      <th>library_id</th>\n",
       "    </tr>\n",
       "  </thead>\n",
       "  <tbody>\n",
       "    <tr>\n",
       "      <th>0</th>\n",
       "      <td>1</td>\n",
       "      <td>1</td>\n",
       "      <td>500000</td>\n",
       "      <td>0</td>\n",
       "      <td>-1.000000</td>\n",
       "      <td>NaN</td>\n",
       "      <td>2</td>\n",
       "      <td>SA921-A90554A-R12-C09</td>\n",
       "      <td>SA921</td>\n",
       "      <td>A90554A</td>\n",
       "    </tr>\n",
       "    <tr>\n",
       "      <th>1</th>\n",
       "      <td>1</td>\n",
       "      <td>500001</td>\n",
       "      <td>1000000</td>\n",
       "      <td>41</td>\n",
       "      <td>-1.000000</td>\n",
       "      <td>NaN</td>\n",
       "      <td>2</td>\n",
       "      <td>SA921-A90554A-R12-C09</td>\n",
       "      <td>SA921</td>\n",
       "      <td>A90554A</td>\n",
       "    </tr>\n",
       "    <tr>\n",
       "      <th>2</th>\n",
       "      <td>1</td>\n",
       "      <td>1000001</td>\n",
       "      <td>1500000</td>\n",
       "      <td>6</td>\n",
       "      <td>0.598332</td>\n",
       "      <td>1.754408</td>\n",
       "      <td>2</td>\n",
       "      <td>SA921-A90554A-R12-C09</td>\n",
       "      <td>SA921</td>\n",
       "      <td>A90554A</td>\n",
       "    </tr>\n",
       "    <tr>\n",
       "      <th>3</th>\n",
       "      <td>1</td>\n",
       "      <td>1500001</td>\n",
       "      <td>2000000</td>\n",
       "      <td>10</td>\n",
       "      <td>0.539498</td>\n",
       "      <td>1.873090</td>\n",
       "      <td>2</td>\n",
       "      <td>SA921-A90554A-R12-C09</td>\n",
       "      <td>SA921</td>\n",
       "      <td>A90554A</td>\n",
       "    </tr>\n",
       "    <tr>\n",
       "      <th>4</th>\n",
       "      <td>1</td>\n",
       "      <td>2000001</td>\n",
       "      <td>2500000</td>\n",
       "      <td>9</td>\n",
       "      <td>0.594508</td>\n",
       "      <td>2.515035</td>\n",
       "      <td>2</td>\n",
       "      <td>SA921-A90554A-R12-C09</td>\n",
       "      <td>SA921</td>\n",
       "      <td>A90554A</td>\n",
       "    </tr>\n",
       "  </tbody>\n",
       "</table>\n",
       "</div>"
      ],
      "text/plain": [
       "  chr    start      end  reads        gc      copy  state  \\\n",
       "0   1        1   500000      0 -1.000000       NaN      2   \n",
       "1   1   500001  1000000     41 -1.000000       NaN      2   \n",
       "2   1  1000001  1500000      6  0.598332  1.754408      2   \n",
       "3   1  1500001  2000000     10  0.539498  1.873090      2   \n",
       "4   1  2000001  2500000      9  0.594508  2.515035      2   \n",
       "\n",
       "                 cell_id sample_id library_id  \n",
       "0  SA921-A90554A-R12-C09     SA921    A90554A  \n",
       "1  SA921-A90554A-R12-C09     SA921    A90554A  \n",
       "2  SA921-A90554A-R12-C09     SA921    A90554A  \n",
       "3  SA921-A90554A-R12-C09     SA921    A90554A  \n",
       "4  SA921-A90554A-R12-C09     SA921    A90554A  "
      ]
     },
     "metadata": {},
     "output_type": "display_data"
    }
   ],
   "source": [
    "from scgenome.tantalus import get_data\n",
    "from scgenome.qc import qc_cn\n",
    "from IPython.display import display\n",
    "\n",
    "hmmcopy_tickets = [\n",
    "#     'SC-1935',\n",
    "    'SC-1936',\n",
    "#     'SC-1937',\n",
    "]\n",
    "\n",
    "sample_ids = [\n",
    "#     'SA922',\n",
    "    'SA921', \n",
    "#     'SA1090',\n",
    "]\n",
    "\n",
    "data = get_data(hmmcopy_tickets, sample_ids, cached=True)\n",
    "cn_data = data[0]\n",
    "segs_data = data[1]\n",
    "metrics_data = data[2]\n",
    "align_metrics_data = data[3]\n",
    "\n",
    "print(\"cn_data.head()\")\n",
    "display(cn_data.head())\n",
    "\n",
    "#cn = qc_cn(metrics_data, cn_data)\n",
    "#print(\"cn.head()\")\n",
    "#display(cn.head())"
   ]
  },
  {
   "cell_type": "code",
   "execution_count": 17,
   "metadata": {},
   "outputs": [],
   "source": [
    "# Subset small amount of cells\n",
    "n_cell = 10\n",
    "\n",
    "keep_cells = cn_data[\"cell_id\"].value_counts().index[0:n_cell]\n",
    "sub_cn_data = cn_data[cn_data[\"cell_id\"].isin(keep_cells)]"
   ]
  },
  {
   "cell_type": "code",
   "execution_count": 18,
   "metadata": {},
   "outputs": [
    {
     "name": "stdout",
     "output_type": "stream",
     "text": [
      "measurement.shape: (10, 6206)\n",
      "entering while loop\n",
      "li: 0\n",
      "li: 1\n",
      "li: 2\n",
      "li: 3\n",
      "li: 4\n",
      "li: 5\n",
      "li: 6\n",
      "li: 7\n",
      "li: 8\n"
     ]
    }
   ],
   "source": [
    "# BHC them!\n",
    "from scgenome.cncluster import bayesian_cluster\n",
    "\n",
    "linkage, clusters, cell_ids = bayesian_cluster(sub_cn_data, n_states = sub_cn_data[\"state\"].max())"
   ]
  },
  {
   "cell_type": "code",
   "execution_count": 19,
   "metadata": {},
   "outputs": [
    {
     "data": {
      "image/png": "[encoded data removed]",
      "text/plain": [
       "<Figure size 432x288 with 1 Axes>"
      ]
     },
     "metadata": {
      "needs_background": "light"
     },
     "output_type": "display_data"
    }
   ],
   "source": [
    "from scipy.cluster.hierarchy import dendrogram\n",
    "from scgenome.simulation import get_plot_data\n",
    "\n",
    "plinkage, plot_data = get_plot_data(linkage)\n",
    "f = dendrogram(plot_data)"
   ]
  },
  {
   "cell_type": "code",
   "execution_count": 20,
   "metadata": {},
   "outputs": [
    {
     "name": "stderr",
     "output_type": "stream",
     "text": [
      "/Users/massoudmaher/Documents/Code/scgenome/scgenome/utils.py:56: SettingWithCopyWarning: \n",
      "A value is trying to be set on a copy of a slice from a DataFrame.\n",
      "Try using .loc[row_indexer,col_indexer] = value instead\n",
      "\n",
      "See the caveats in the documentation: http://pandas.pydata.org/pandas-docs/stable/indexing.html#indexing-view-versus-copy\n",
      "  df[col] = df[col].astype('category')\n",
      "/Users/massoudmaher/Documents/Code/scgenome/scgenome/utils.py:57: SettingWithCopyWarning: \n",
      "A value is trying to be set on a copy of a slice from a DataFrame.\n",
      "Try using .loc[row_indexer,col_indexer] = value instead\n",
      "\n",
      "See the caveats in the documentation: http://pandas.pydata.org/pandas-docs/stable/indexing.html#indexing-view-versus-copy\n",
      "  df[col] = df[col].cat.set_categories(col_categories[col])\n",
      "2019-09-07 13:44:09,710 - INFO - 39f0895c-4a8a-4ff7-a95d-71256682f989 - TokenRequest:Getting token with client credentials.\n",
      "2019-09-07 13:44:09,900 - INFO - 39f0895c-4a8a-4ff7-a95d-71256682f989 - OAuth2Client:Get Token Server returned this correlation_id: 39f0895c-4a8a-4ff7-a95d-71256682f989\n"
     ]
    },
    {
     "name": "stdout",
     "output_type": "stream",
     "text": [
      "cn_data.head()\n"
     ]
    },
    {
     "data": {
      "text/html": [
       "<div>\n",
       "<style scoped>\n",
       "    .dataframe tbody tr th:only-of-type {\n",
       "        vertical-align: middle;\n",
       "    }\n",
       "\n",
       "    .dataframe tbody tr th {\n",
       "        vertical-align: top;\n",
       "    }\n",
       "\n",
       "    .dataframe thead th {\n",
       "        text-align: right;\n",
       "    }\n",
       "</style>\n",
       "<table border=\"1\" class=\"dataframe\">\n",
       "  <thead>\n",
       "    <tr style=\"text-align: right;\">\n",
       "      <th></th>\n",
       "      <th>chr</th>\n",
       "      <th>start</th>\n",
       "      <th>end</th>\n",
       "      <th>reads</th>\n",
       "      <th>gc</th>\n",
       "      <th>copy</th>\n",
       "      <th>state</th>\n",
       "      <th>cell_id</th>\n",
       "      <th>sample_id</th>\n",
       "      <th>library_id</th>\n",
       "    </tr>\n",
       "  </thead>\n",
       "  <tbody>\n",
       "    <tr>\n",
       "      <th>0</th>\n",
       "      <td>1</td>\n",
       "      <td>1</td>\n",
       "      <td>500000</td>\n",
       "      <td>2</td>\n",
       "      <td>-1.000000</td>\n",
       "      <td>NaN</td>\n",
       "      <td>2</td>\n",
       "      <td>SA1090-A96213A-R34-C64</td>\n",
       "      <td>SA1090</td>\n",
       "      <td>A96213A</td>\n",
       "    </tr>\n",
       "    <tr>\n",
       "      <th>1</th>\n",
       "      <td>1</td>\n",
       "      <td>500001</td>\n",
       "      <td>1000000</td>\n",
       "      <td>42</td>\n",
       "      <td>-1.000000</td>\n",
       "      <td>NaN</td>\n",
       "      <td>2</td>\n",
       "      <td>SA1090-A96213A-R34-C64</td>\n",
       "      <td>SA1090</td>\n",
       "      <td>A96213A</td>\n",
       "    </tr>\n",
       "    <tr>\n",
       "      <th>2</th>\n",
       "      <td>1</td>\n",
       "      <td>1000001</td>\n",
       "      <td>1500000</td>\n",
       "      <td>43</td>\n",
       "      <td>0.598332</td>\n",
       "      <td>3.017390</td>\n",
       "      <td>2</td>\n",
       "      <td>SA1090-A96213A-R34-C64</td>\n",
       "      <td>SA1090</td>\n",
       "      <td>A96213A</td>\n",
       "    </tr>\n",
       "    <tr>\n",
       "      <th>3</th>\n",
       "      <td>1</td>\n",
       "      <td>1500001</td>\n",
       "      <td>2000000</td>\n",
       "      <td>42</td>\n",
       "      <td>0.539498</td>\n",
       "      <td>1.936414</td>\n",
       "      <td>2</td>\n",
       "      <td>SA1090-A96213A-R34-C64</td>\n",
       "      <td>SA1090</td>\n",
       "      <td>A96213A</td>\n",
       "    </tr>\n",
       "    <tr>\n",
       "      <th>4</th>\n",
       "      <td>1</td>\n",
       "      <td>2000001</td>\n",
       "      <td>2500000</td>\n",
       "      <td>36</td>\n",
       "      <td>0.594508</td>\n",
       "      <td>2.439622</td>\n",
       "      <td>2</td>\n",
       "      <td>SA1090-A96213A-R34-C64</td>\n",
       "      <td>SA1090</td>\n",
       "      <td>A96213A</td>\n",
       "    </tr>\n",
       "  </tbody>\n",
       "</table>\n",
       "</div>"
      ],
      "text/plain": [
       "  chr    start      end  reads        gc      copy  state  \\\n",
       "0   1        1   500000      2 -1.000000       NaN      2   \n",
       "1   1   500001  1000000     42 -1.000000       NaN      2   \n",
       "2   1  1000001  1500000     43  0.598332  3.017390      2   \n",
       "3   1  1500001  2000000     42  0.539498  1.936414      2   \n",
       "4   1  2000001  2500000     36  0.594508  2.439622      2   \n",
       "\n",
       "                  cell_id sample_id library_id  \n",
       "0  SA1090-A96213A-R34-C64    SA1090    A96213A  \n",
       "1  SA1090-A96213A-R34-C64    SA1090    A96213A  \n",
       "2  SA1090-A96213A-R34-C64    SA1090    A96213A  \n",
       "3  SA1090-A96213A-R34-C64    SA1090    A96213A  \n",
       "4  SA1090-A96213A-R34-C64    SA1090    A96213A  "
      ]
     },
     "metadata": {},
     "output_type": "display_data"
    }
   ],
   "source": [
    "hmmcopy_tickets = ['SC-1937']\n",
    "sample_ids = ['SA1090']\n",
    "\n",
    "xdata = get_data(hmmcopy_tickets, sample_ids, cached=True)\n",
    "xcn_data = xdata[0]\n",
    "xsegs_data = xdata[1]\n",
    "xmetrics_data = xdata[2]\n",
    "xalign_metrics_data = xdata[3]\n",
    "\n",
    "print(\"cn_data.head()\")\n",
    "display(xcn_data.head())"
   ]
  },
  {
   "cell_type": "code",
   "execution_count": 21,
   "metadata": {},
   "outputs": [],
   "source": [
    "# Subset small amount of cells\n",
    "xkeep_cells = xcn_data[\"cell_id\"].value_counts().index[0:n_cell]\n",
    "xsub_cn_data = xcn_data[xcn_data[\"cell_id\"].isin(xkeep_cells)]"
   ]
  },
  {
   "cell_type": "code",
   "execution_count": 22,
   "metadata": {},
   "outputs": [
    {
     "name": "stdout",
     "output_type": "stream",
     "text": [
      "measurement.shape: (10, 6206)\n",
      "entering while loop\n",
      "li: 0\n",
      "li: 1\n",
      "li: 2\n",
      "li: 3\n",
      "li: 4\n",
      "li: 5\n",
      "li: 6\n",
      "li: 7\n",
      "li: 8\n"
     ]
    },
    {
     "data": {
      "image/png": "[encoded data removed]",
      "text/plain": [
       "<Figure size 432x288 with 1 Axes>"
      ]
     },
     "metadata": {
      "needs_background": "light"
     },
     "output_type": "display_data"
    }
   ],
   "source": [
    "# BHC them!\n",
    "xlinkage, xclusters, xcell_ids = bayesian_cluster(xsub_cn_data, n_states = xsub_cn_data[\"state\"].max())\n",
    "\n",
    "xplinkage, xplot_data = get_plot_data(xlinkage)\n",
    "f = dendrogram(xplot_data)"
   ]
  },
  {
   "cell_type": "code",
   "execution_count": 30,
   "metadata": {},
   "outputs": [],
   "source": [
    "# Combine two datasets and see if we can seperate \n",
    "sub_cn_data[\"cell_id\"] = \"cl1_\" + sub_cn_data[\"cell_id\"].astype(\"str\")\n",
    "xsub_cn_data[\"cell_id\"] = \"cl2_\" + xsub_cn_data[\"cell_id\"].astype(\"str\")\n",
    "\n",
    "bi_cn_data = sub_cn_data.append(xsub_cn_data)\n",
    "bilinkage, biclusters, bicell_ids = bayesian_cluster(bi_cn_data, n_states = bi_cn_data[\"state\"].max())\n",
    "\n",
    "biplinkage, biplot_data = get_plot_data(bilinkage)\n",
    "#f = dendrogram(biplot_data, labels = bicell_ids.str[2])"
   ]
  },
  {
   "cell_type": "code",
   "execution_count": 55,
   "metadata": {},
   "outputs": [],
   "source": [
    "from scgenome import utils"
   ]
  },
  {
   "cell_type": "code",
   "execution_count": 59,
   "metadata": {},
   "outputs": [],
   "source": [
    "bi_cn_mat, bi_cn_meas, bi_cn_ids = utils.cn_data_to_mat_data_ids(bi_cn_data)\n",
    "#def cn_data_to_mat_data_ids(cn_data, data_id=CN_DATA_ID, cell_id=CELL_ID,\n",
    "#                            index_ids=INDEX_IDS, value_ids=VALUE_IDS):"
   ]
  },
  {
   "cell_type": "code",
   "execution_count": 62,
   "metadata": {},
   "outputs": [
    {
     "data": {
      "text/plain": [
       "array([[        nan,         nan,  1.99999996, ...,         nan,\n",
       "                nan,         nan],\n",
       "       [        nan,         nan,  3.2442741 , ...,         nan,\n",
       "        10.03372165,         nan],\n",
       "       [        nan,         nan,  3.02526709, ...,         nan,\n",
       "        14.22249639,         nan],\n",
       "       ...,\n",
       "       [        nan,         nan,  2.13224392, ...,         nan,\n",
       "         4.17483217,         nan],\n",
       "       [        nan,         nan,  7.60272715, ...,         nan,\n",
       "         5.70967651,         nan],\n",
       "       [        nan,         nan,  1.43942136, ...,         nan,\n",
       "         3.30476337,         nan]])"
      ]
     },
     "execution_count": 62,
     "metadata": {},
     "output_type": "execute_result"
    }
   ],
   "source": [
    "bi_cn_meas"
   ]
  },
  {
   "cell_type": "code",
   "execution_count": 61,
   "metadata": {},
   "outputs": [
    {
     "data": {
      "image/png": "[encoded data removed]",
      "text/plain": [
       "<Figure size 720x720 with 4 Axes>"
      ]
     },
     "metadata": {
      "needs_background": "light"
     },
     "output_type": "display_data"
    }
   ],
   "source": [
    "g = sns.clustermap(bi_cn_meas, col_cluster=False, row_linkage=biplot_data)"
   ]
  },
  {
   "cell_type": "code",
   "execution_count": 51,
   "metadata": {},
   "outputs": [
    {
     "name": "stdout",
     "output_type": "stream",
     "text": [
      "[[0.         1.         3.58634516 2.        ]\n",
      " [2.         3.         6.08753796 2.        ]\n",
      " [4.         5.         7.33875671 4.        ]]\n",
      "[[ 1.68767663  1.56864152  3.2045739   0.81475201  1.29960368  0.84933194\n",
      "   0.1653506   1.43015102  1.82127974 -0.90906034]\n",
      " [ 1.92681637  1.14069643  0.39747715  0.58975947  1.32060701  0.58188526\n",
      "   1.21595281  0.56019578  0.77409471  0.38011788]\n",
      " [-1.72279328 -0.92624521 -2.52642621 -2.14464916 -0.0733425   3.02713946\n",
      "  -0.72836232 -1.39158756 -1.46166297  0.53841099]\n",
      " [-2.2814342   0.8368229  -0.98932696 -2.19666656 -1.78739732 -2.21020694\n",
      "  -0.24997016 -1.57799129 -0.70320819  0.28226752]]\n"
     ]
    },
    {
     "data": {
      "image/png": "[encoded data removed]",
      "text/plain": [
       "<Figure size 720x720 with 4 Axes>"
      ]
     },
     "metadata": {
      "needs_background": "light"
     },
     "output_type": "display_data"
    }
   ],
   "source": [
    "import seaborn as sns\n",
    "import numpy as np\n",
    "import scipy\n",
    "\n",
    "cl1 = np.random.normal(loc=1,size=(2,10))\n",
    "cl2 = np.random.normal(loc=-1,size=(2,10))\n",
    "dat = np.concatenate([cl1,cl2], axis=0)\n",
    "y_labels = [\"0\",\"0\",\"1\",\"1\"]\n",
    "\n",
    "linkage = scipy.cluster.hierarchy.linkage(dat)\n",
    "print(linkage)\n",
    "\n",
    "print(dat)\n",
    "g = sns.clustermap(dat, col_cluster=False, row_linkage=linkage, yticklabels = y_labels)"
   ]
  },
  {
   "cell_type": "code",
   "execution_count": null,
   "metadata": {},
   "outputs": [],
   "source": []
  }
 ],
 "metadata": {
  "kernelspec": {
   "display_name": "scg",
   "language": "python",
   "name": "scg"
  },
  "language_info": {
   "codemirror_mode": {
    "name": "ipython",
    "version": 3
   },
   "file_extension": ".py",
   "mimetype": "text/x-python",
   "name": "python",
   "nbconvert_exporter": "python",
   "pygments_lexer": "ipython3",
   "version": "3.7.4"
  }
 },
 "nbformat": 4,
 "nbformat_minor": 4
}
