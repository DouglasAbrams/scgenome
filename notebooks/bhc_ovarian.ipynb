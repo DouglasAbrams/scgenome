{
 "cells": [
  {
   "cell_type": "code",
   "execution_count": 2,
   "metadata": {},
   "outputs": [
    {
     "name": "stderr",
     "output_type": "stream",
     "text": [
      "/Users/massoudmaher/Documents/Code/scgenome/scgenome/utils.py:56: SettingWithCopyWarning: \n",
      "A value is trying to be set on a copy of a slice from a DataFrame.\n",
      "Try using .loc[row_indexer,col_indexer] = value instead\n",
      "\n",
      "See the caveats in the documentation: http://pandas.pydata.org/pandas-docs/stable/indexing.html#indexing-view-versus-copy\n",
      "  df[col] = df[col].astype('category')\n",
      "/Users/massoudmaher/Documents/Code/scgenome/scgenome/utils.py:57: SettingWithCopyWarning: \n",
      "A value is trying to be set on a copy of a slice from a DataFrame.\n",
      "Try using .loc[row_indexer,col_indexer] = value instead\n",
      "\n",
      "See the caveats in the documentation: http://pandas.pydata.org/pandas-docs/stable/indexing.html#indexing-view-versus-copy\n",
      "  df[col] = df[col].cat.set_categories(col_categories[col])\n",
      "2019-09-06 12:03:33,170 - INFO - ab881f51-1158-4c39-9b34-9053c286afa5 - TokenRequest:Getting token with client credentials.\n",
      "2019-09-06 12:03:33,339 - INFO - ab881f51-1158-4c39-9b34-9053c286afa5 - OAuth2Client:Get Token Server returned this correlation_id: ab881f51-1158-4c39-9b34-9053c286afa5\n"
     ]
    },
    {
     "name": "stdout",
     "output_type": "stream",
     "text": [
      "cn_data.head()\n"
     ]
    },
    {
     "data": {
      "text/html": [
       "<div>\n",
       "<style scoped>\n",
       "    .dataframe tbody tr th:only-of-type {\n",
       "        vertical-align: middle;\n",
       "    }\n",
       "\n",
       "    .dataframe tbody tr th {\n",
       "        vertical-align: top;\n",
       "    }\n",
       "\n",
       "    .dataframe thead th {\n",
       "        text-align: right;\n",
       "    }\n",
       "</style>\n",
       "<table border=\"1\" class=\"dataframe\">\n",
       "  <thead>\n",
       "    <tr style=\"text-align: right;\">\n",
       "      <th></th>\n",
       "      <th>chr</th>\n",
       "      <th>start</th>\n",
       "      <th>end</th>\n",
       "      <th>reads</th>\n",
       "      <th>gc</th>\n",
       "      <th>copy</th>\n",
       "      <th>state</th>\n",
       "      <th>cell_id</th>\n",
       "      <th>sample_id</th>\n",
       "      <th>library_id</th>\n",
       "    </tr>\n",
       "  </thead>\n",
       "  <tbody>\n",
       "    <tr>\n",
       "      <th>0</th>\n",
       "      <td>1</td>\n",
       "      <td>1</td>\n",
       "      <td>500000</td>\n",
       "      <td>0</td>\n",
       "      <td>-1.000000</td>\n",
       "      <td>NaN</td>\n",
       "      <td>2</td>\n",
       "      <td>SA921-A90554A-R12-C09</td>\n",
       "      <td>SA921</td>\n",
       "      <td>A90554A</td>\n",
       "    </tr>\n",
       "    <tr>\n",
       "      <th>1</th>\n",
       "      <td>1</td>\n",
       "      <td>500001</td>\n",
       "      <td>1000000</td>\n",
       "      <td>41</td>\n",
       "      <td>-1.000000</td>\n",
       "      <td>NaN</td>\n",
       "      <td>2</td>\n",
       "      <td>SA921-A90554A-R12-C09</td>\n",
       "      <td>SA921</td>\n",
       "      <td>A90554A</td>\n",
       "    </tr>\n",
       "    <tr>\n",
       "      <th>2</th>\n",
       "      <td>1</td>\n",
       "      <td>1000001</td>\n",
       "      <td>1500000</td>\n",
       "      <td>6</td>\n",
       "      <td>0.598332</td>\n",
       "      <td>1.754408</td>\n",
       "      <td>2</td>\n",
       "      <td>SA921-A90554A-R12-C09</td>\n",
       "      <td>SA921</td>\n",
       "      <td>A90554A</td>\n",
       "    </tr>\n",
       "    <tr>\n",
       "      <th>3</th>\n",
       "      <td>1</td>\n",
       "      <td>1500001</td>\n",
       "      <td>2000000</td>\n",
       "      <td>10</td>\n",
       "      <td>0.539498</td>\n",
       "      <td>1.873090</td>\n",
       "      <td>2</td>\n",
       "      <td>SA921-A90554A-R12-C09</td>\n",
       "      <td>SA921</td>\n",
       "      <td>A90554A</td>\n",
       "    </tr>\n",
       "    <tr>\n",
       "      <th>4</th>\n",
       "      <td>1</td>\n",
       "      <td>2000001</td>\n",
       "      <td>2500000</td>\n",
       "      <td>9</td>\n",
       "      <td>0.594508</td>\n",
       "      <td>2.515035</td>\n",
       "      <td>2</td>\n",
       "      <td>SA921-A90554A-R12-C09</td>\n",
       "      <td>SA921</td>\n",
       "      <td>A90554A</td>\n",
       "    </tr>\n",
       "  </tbody>\n",
       "</table>\n",
       "</div>"
      ],
      "text/plain": [
       "  chr    start      end  reads        gc      copy  state  \\\n",
       "0   1        1   500000      0 -1.000000       NaN      2   \n",
       "1   1   500001  1000000     41 -1.000000       NaN      2   \n",
       "2   1  1000001  1500000      6  0.598332  1.754408      2   \n",
       "3   1  1500001  2000000     10  0.539498  1.873090      2   \n",
       "4   1  2000001  2500000      9  0.594508  2.515035      2   \n",
       "\n",
       "                 cell_id sample_id library_id  \n",
       "0  SA921-A90554A-R12-C09     SA921    A90554A  \n",
       "1  SA921-A90554A-R12-C09     SA921    A90554A  \n",
       "2  SA921-A90554A-R12-C09     SA921    A90554A  \n",
       "3  SA921-A90554A-R12-C09     SA921    A90554A  \n",
       "4  SA921-A90554A-R12-C09     SA921    A90554A  "
      ]
     },
     "metadata": {},
     "output_type": "display_data"
    }
   ],
   "source": [
    "from scgenome.tantalus import get_data\n",
    "from scgenome.qc import qc_cn\n",
    "from IPython.display import display\n",
    "\n",
    "hmmcopy_tickets = [\n",
    "#     'SC-1935',\n",
    "    'SC-1936',\n",
    "#     'SC-1937',\n",
    "]\n",
    "\n",
    "sample_ids = [\n",
    "#     'SA922',\n",
    "    'SA921', \n",
    "#     'SA1090',\n",
    "]\n",
    "\n",
    "data = get_data(hmmcopy_tickets, sample_ids, cached=True)\n",
    "cn_data = data[0]\n",
    "segs_data = data[1]\n",
    "metrics_data = data[2]\n",
    "align_metrics_data = data[3]\n",
    "\n",
    "print(\"cn_data.head()\")\n",
    "display(cn_data.head())\n",
    "\n",
    "#cn = qc_cn(metrics_data, cn_data)\n",
    "#print(\"cn.head()\")\n",
    "#display(cn.head())"
   ]
  },
  {
   "cell_type": "code",
   "execution_count": 7,
   "metadata": {},
   "outputs": [],
   "source": [
    "# Subset small amount of cells\n",
    "n_cell = 10\n",
    "\n",
    "keep_cells = cn_data[\"cell_id\"].value_counts().index[0:n_cell]\n",
    "sub_cn_data = cn_data[cn_data[\"cell_id\"].isin(keep_cells)]"
   ]
  },
  {
   "cell_type": "code",
   "execution_count": 8,
   "metadata": {},
   "outputs": [],
   "source": [
    "# BHC them!\n",
    "from scgenome.cncluster import bayesian_cluster\n",
    "\n",
    "linkage, clusters, cell_ids = bayesian_cluster(sub_cn_data, n_states = sub_cn_data[\"state\"].max())"
   ]
  },
  {
   "cell_type": "code",
   "execution_count": 9,
   "metadata": {},
   "outputs": [
    {
     "data": {
      "image/png": "[encoded data removed]",
      "text/plain": [
       "<Figure size 432x288 with 1 Axes>"
      ]
     },
     "metadata": {
      "needs_background": "light"
     },
     "output_type": "display_data"
    }
   ],
   "source": [
    "from scipy.cluster.hierarchy import dendrogram\n",
    "from scgenome.simulation import get_plot_data\n",
    "\n",
    "plinkage, plot_data = get_plot_data(linkage)\n",
    "f = dendrogram(plot_data)"
   ]
  },
  {
   "cell_type": "code",
   "execution_count": 10,
   "metadata": {},
   "outputs": [
    {
     "name": "stderr",
     "output_type": "stream",
     "text": [
      "/Users/massoudmaher/Documents/Code/scgenome/scgenome/utils.py:56: SettingWithCopyWarning: \n",
      "A value is trying to be set on a copy of a slice from a DataFrame.\n",
      "Try using .loc[row_indexer,col_indexer] = value instead\n",
      "\n",
      "See the caveats in the documentation: http://pandas.pydata.org/pandas-docs/stable/indexing.html#indexing-view-versus-copy\n",
      "  df[col] = df[col].astype('category')\n",
      "/Users/massoudmaher/Documents/Code/scgenome/scgenome/utils.py:57: SettingWithCopyWarning: \n",
      "A value is trying to be set on a copy of a slice from a DataFrame.\n",
      "Try using .loc[row_indexer,col_indexer] = value instead\n",
      "\n",
      "See the caveats in the documentation: http://pandas.pydata.org/pandas-docs/stable/indexing.html#indexing-view-versus-copy\n",
      "  df[col] = df[col].cat.set_categories(col_categories[col])\n",
      "2019-09-06 12:05:24,700 - INFO - fc534e97-4af1-49d2-b35a-26d5086e779f - TokenRequest:Getting token with client credentials.\n",
      "2019-09-06 12:05:24,878 - INFO - fc534e97-4af1-49d2-b35a-26d5086e779f - OAuth2Client:Get Token Server returned this correlation_id: fc534e97-4af1-49d2-b35a-26d5086e779f\n"
     ]
    },
    {
     "name": "stdout",
     "output_type": "stream",
     "text": [
      "cn_data.head()\n"
     ]
    },
    {
     "data": {
      "text/html": [
       "<div>\n",
       "<style scoped>\n",
       "    .dataframe tbody tr th:only-of-type {\n",
       "        vertical-align: middle;\n",
       "    }\n",
       "\n",
       "    .dataframe tbody tr th {\n",
       "        vertical-align: top;\n",
       "    }\n",
       "\n",
       "    .dataframe thead th {\n",
       "        text-align: right;\n",
       "    }\n",
       "</style>\n",
       "<table border=\"1\" class=\"dataframe\">\n",
       "  <thead>\n",
       "    <tr style=\"text-align: right;\">\n",
       "      <th></th>\n",
       "      <th>chr</th>\n",
       "      <th>start</th>\n",
       "      <th>end</th>\n",
       "      <th>reads</th>\n",
       "      <th>gc</th>\n",
       "      <th>copy</th>\n",
       "      <th>state</th>\n",
       "      <th>cell_id</th>\n",
       "      <th>sample_id</th>\n",
       "      <th>library_id</th>\n",
       "    </tr>\n",
       "  </thead>\n",
       "  <tbody>\n",
       "    <tr>\n",
       "      <th>0</th>\n",
       "      <td>1</td>\n",
       "      <td>1</td>\n",
       "      <td>500000</td>\n",
       "      <td>2</td>\n",
       "      <td>-1.000000</td>\n",
       "      <td>NaN</td>\n",
       "      <td>2</td>\n",
       "      <td>SA1090-A96213A-R34-C64</td>\n",
       "      <td>SA1090</td>\n",
       "      <td>A96213A</td>\n",
       "    </tr>\n",
       "    <tr>\n",
       "      <th>1</th>\n",
       "      <td>1</td>\n",
       "      <td>500001</td>\n",
       "      <td>1000000</td>\n",
       "      <td>42</td>\n",
       "      <td>-1.000000</td>\n",
       "      <td>NaN</td>\n",
       "      <td>2</td>\n",
       "      <td>SA1090-A96213A-R34-C64</td>\n",
       "      <td>SA1090</td>\n",
       "      <td>A96213A</td>\n",
       "    </tr>\n",
       "    <tr>\n",
       "      <th>2</th>\n",
       "      <td>1</td>\n",
       "      <td>1000001</td>\n",
       "      <td>1500000</td>\n",
       "      <td>43</td>\n",
       "      <td>0.598332</td>\n",
       "      <td>3.017390</td>\n",
       "      <td>2</td>\n",
       "      <td>SA1090-A96213A-R34-C64</td>\n",
       "      <td>SA1090</td>\n",
       "      <td>A96213A</td>\n",
       "    </tr>\n",
       "    <tr>\n",
       "      <th>3</th>\n",
       "      <td>1</td>\n",
       "      <td>1500001</td>\n",
       "      <td>2000000</td>\n",
       "      <td>42</td>\n",
       "      <td>0.539498</td>\n",
       "      <td>1.936414</td>\n",
       "      <td>2</td>\n",
       "      <td>SA1090-A96213A-R34-C64</td>\n",
       "      <td>SA1090</td>\n",
       "      <td>A96213A</td>\n",
       "    </tr>\n",
       "    <tr>\n",
       "      <th>4</th>\n",
       "      <td>1</td>\n",
       "      <td>2000001</td>\n",
       "      <td>2500000</td>\n",
       "      <td>36</td>\n",
       "      <td>0.594508</td>\n",
       "      <td>2.439622</td>\n",
       "      <td>2</td>\n",
       "      <td>SA1090-A96213A-R34-C64</td>\n",
       "      <td>SA1090</td>\n",
       "      <td>A96213A</td>\n",
       "    </tr>\n",
       "  </tbody>\n",
       "</table>\n",
       "</div>"
      ],
      "text/plain": [
       "  chr    start      end  reads        gc      copy  state  \\\n",
       "0   1        1   500000      2 -1.000000       NaN      2   \n",
       "1   1   500001  1000000     42 -1.000000       NaN      2   \n",
       "2   1  1000001  1500000     43  0.598332  3.017390      2   \n",
       "3   1  1500001  2000000     42  0.539498  1.936414      2   \n",
       "4   1  2000001  2500000     36  0.594508  2.439622      2   \n",
       "\n",
       "                  cell_id sample_id library_id  \n",
       "0  SA1090-A96213A-R34-C64    SA1090    A96213A  \n",
       "1  SA1090-A96213A-R34-C64    SA1090    A96213A  \n",
       "2  SA1090-A96213A-R34-C64    SA1090    A96213A  \n",
       "3  SA1090-A96213A-R34-C64    SA1090    A96213A  \n",
       "4  SA1090-A96213A-R34-C64    SA1090    A96213A  "
      ]
     },
     "metadata": {},
     "output_type": "display_data"
    }
   ],
   "source": [
    "hmmcopy_tickets = ['SC-1937']\n",
    "sample_ids = ['SA1090']\n",
    "\n",
    "xdata = get_data(hmmcopy_tickets, sample_ids, cached=True)\n",
    "xcn_data = xdata[0]\n",
    "xsegs_data = xdata[1]\n",
    "xmetrics_data = xdata[2]\n",
    "xalign_metrics_data = xdata[3]\n",
    "\n",
    "print(\"cn_data.head()\")\n",
    "display(xcn_data.head())"
   ]
  },
  {
   "cell_type": "code",
   "execution_count": 11,
   "metadata": {},
   "outputs": [],
   "source": [
    "# Subset small amount of cells\n",
    "xkeep_cells = xcn_data[\"cell_id\"].value_counts().index[0:n_cell]\n",
    "xsub_cn_data = xcn_data[xcn_data[\"cell_id\"].isin(xkeep_cells)]"
   ]
  },
  {
   "cell_type": "code",
   "execution_count": 12,
   "metadata": {},
   "outputs": [
    {
     "data": {
      "image/png": "[encoded data removed]",
      "text/plain": [
       "<Figure size 432x288 with 1 Axes>"
      ]
     },
     "metadata": {
      "needs_background": "light"
     },
     "output_type": "display_data"
    }
   ],
   "source": [
    "# BHC them!\n",
    "xlinkage, xclusters, xcell_ids = bayesian_cluster(xsub_cn_data, n_states = xsub_cn_data[\"state\"].max())\n",
    "\n",
    "xplinkage, xplot_data = get_plot_data(xlinkage)\n",
    "f = dendrogram(xplot_data)"
   ]
  },
  {
   "cell_type": "code",
   "execution_count": null,
   "metadata": {},
   "outputs": [],
   "source": [
    "# Combine two datasets and see if we can seperate \n",
    "cn_data[\"cell_id\"] = \"cl1_\" + cn_data[\"cell_id\"].astype(\"str\")\n",
    "xcn_data[\"cell_id\"] = \"cl2_\" + xcn_data[\"cell_id\"].astype(\"str\")\n",
    "\n",
    "bi_cn_data = cn_data.append(xcn_data)\n",
    "bilinkage, biclusters, bicell_ids = bayesian_cluster(bi_cn_data, n_states = bi_cn_data[\"state\"].max())\n",
    "\n",
    "biplinkage, biplot_data = get_plot_data(bilinkage)\n",
    "f = dendrogram(biplot_data)"
   ]
  },
  {
   "cell_type": "code",
   "execution_count": null,
   "metadata": {},
   "outputs": [],
   "source": [
    "cl_ids = bicell_ids.str[2]\n",
    "biplinkage, biplot_data = get_plot_data(bilinkage)\n",
    "f = dendrogram(biplot_data, lavels=cl_ids)"
   ]
  }
 ],
 "metadata": {
  "kernelspec": {
   "display_name": "scg",
   "language": "python",
   "name": "scg"
  },
  "language_info": {
   "codemirror_mode": {
    "name": "ipython",
    "version": 3
   },
   "file_extension": ".py",
   "mimetype": "text/x-python",
   "name": "python",
   "nbconvert_exporter": "python",
   "pygments_lexer": "ipython3",
   "version": "3.7.4"
  }
 },
 "nbformat": 4,
 "nbformat_minor": 4
}
