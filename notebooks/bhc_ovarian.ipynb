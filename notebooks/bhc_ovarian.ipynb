{
 "cells": [
  {
   "cell_type": "code",
   "execution_count": 3,
   "metadata": {},
   "outputs": [
    {
     "name": "stderr",
     "output_type": "stream",
     "text": [
      "2019-09-05 10:11:23,807 - INFO - b4562e0d-6a5a-4b7e-a228-1b611763c571 - TokenRequest:Getting token with client credentials.\n",
      "2019-09-05 10:11:24,022 - INFO - b4562e0d-6a5a-4b7e-a228-1b611763c571 - OAuth2Client:Get Token Server returned this correlation_id: b4562e0d-6a5a-4b7e-a228-1b611763c571\n"
     ]
    },
    {
     "name": "stdout",
     "output_type": "stream",
     "text": [
      "cn_data.head()\n"
     ]
    },
    {
     "data": {
      "text/html": [
       "<div>\n",
       "<style scoped>\n",
       "    .dataframe tbody tr th:only-of-type {\n",
       "        vertical-align: middle;\n",
       "    }\n",
       "\n",
       "    .dataframe tbody tr th {\n",
       "        vertical-align: top;\n",
       "    }\n",
       "\n",
       "    .dataframe thead th {\n",
       "        text-align: right;\n",
       "    }\n",
       "</style>\n",
       "<table border=\"1\" class=\"dataframe\">\n",
       "  <thead>\n",
       "    <tr style=\"text-align: right;\">\n",
       "      <th></th>\n",
       "      <th>chr</th>\n",
       "      <th>start</th>\n",
       "      <th>end</th>\n",
       "      <th>reads</th>\n",
       "      <th>gc</th>\n",
       "      <th>copy</th>\n",
       "      <th>state</th>\n",
       "      <th>cell_id</th>\n",
       "      <th>sample_id</th>\n",
       "      <th>library_id</th>\n",
       "    </tr>\n",
       "  </thead>\n",
       "  <tbody>\n",
       "    <tr>\n",
       "      <th>0</th>\n",
       "      <td>1</td>\n",
       "      <td>1</td>\n",
       "      <td>500000</td>\n",
       "      <td>0</td>\n",
       "      <td>-1.000000</td>\n",
       "      <td>NaN</td>\n",
       "      <td>2</td>\n",
       "      <td>SA921-A90554A-R12-C09</td>\n",
       "      <td>SA921</td>\n",
       "      <td>A90554A</td>\n",
       "    </tr>\n",
       "    <tr>\n",
       "      <th>1</th>\n",
       "      <td>1</td>\n",
       "      <td>500001</td>\n",
       "      <td>1000000</td>\n",
       "      <td>41</td>\n",
       "      <td>-1.000000</td>\n",
       "      <td>NaN</td>\n",
       "      <td>2</td>\n",
       "      <td>SA921-A90554A-R12-C09</td>\n",
       "      <td>SA921</td>\n",
       "      <td>A90554A</td>\n",
       "    </tr>\n",
       "    <tr>\n",
       "      <th>2</th>\n",
       "      <td>1</td>\n",
       "      <td>1000001</td>\n",
       "      <td>1500000</td>\n",
       "      <td>6</td>\n",
       "      <td>0.598332</td>\n",
       "      <td>1.754408</td>\n",
       "      <td>2</td>\n",
       "      <td>SA921-A90554A-R12-C09</td>\n",
       "      <td>SA921</td>\n",
       "      <td>A90554A</td>\n",
       "    </tr>\n",
       "    <tr>\n",
       "      <th>3</th>\n",
       "      <td>1</td>\n",
       "      <td>1500001</td>\n",
       "      <td>2000000</td>\n",
       "      <td>10</td>\n",
       "      <td>0.539498</td>\n",
       "      <td>1.873090</td>\n",
       "      <td>2</td>\n",
       "      <td>SA921-A90554A-R12-C09</td>\n",
       "      <td>SA921</td>\n",
       "      <td>A90554A</td>\n",
       "    </tr>\n",
       "    <tr>\n",
       "      <th>4</th>\n",
       "      <td>1</td>\n",
       "      <td>2000001</td>\n",
       "      <td>2500000</td>\n",
       "      <td>9</td>\n",
       "      <td>0.594508</td>\n",
       "      <td>2.515035</td>\n",
       "      <td>2</td>\n",
       "      <td>SA921-A90554A-R12-C09</td>\n",
       "      <td>SA921</td>\n",
       "      <td>A90554A</td>\n",
       "    </tr>\n",
       "  </tbody>\n",
       "</table>\n",
       "</div>"
      ],
      "text/plain": [
       "  chr    start      end  reads        gc      copy  state  \\\n",
       "0   1        1   500000      0 -1.000000       NaN      2   \n",
       "1   1   500001  1000000     41 -1.000000       NaN      2   \n",
       "2   1  1000001  1500000      6  0.598332  1.754408      2   \n",
       "3   1  1500001  2000000     10  0.539498  1.873090      2   \n",
       "4   1  2000001  2500000      9  0.594508  2.515035      2   \n",
       "\n",
       "                 cell_id sample_id library_id  \n",
       "0  SA921-A90554A-R12-C09     SA921    A90554A  \n",
       "1  SA921-A90554A-R12-C09     SA921    A90554A  \n",
       "2  SA921-A90554A-R12-C09     SA921    A90554A  \n",
       "3  SA921-A90554A-R12-C09     SA921    A90554A  \n",
       "4  SA921-A90554A-R12-C09     SA921    A90554A  "
      ]
     },
     "metadata": {},
     "output_type": "display_data"
    }
   ],
   "source": [
    "from scgenome.tantalus import get_data\n",
    "from scgenome.qc import qc_cn\n",
    "from IPython.display import display\n",
    "\n",
    "hmmcopy_tickets = [\n",
    "#     'SC-1935',\n",
    "    'SC-1936',\n",
    "#     'SC-1937',\n",
    "]\n",
    "\n",
    "sample_ids = [\n",
    "#     'SA922',\n",
    "    'SA921', \n",
    "#     'SA1090',\n",
    "]\n",
    "\n",
    "data = get_data(hmmcopy_tickets, sample_ids, cached=True)\n",
    "cn_data = data[0]\n",
    "segs_data = data[1]\n",
    "metrics_data = data[2]\n",
    "align_metrics_data = data[3]\n",
    "\n",
    "print(\"cn_data.head()\")\n",
    "display(cn_data.head())\n",
    "\n",
    "#cn = qc_cn(metrics_data, cn_data)\n",
    "#print(\"cn.head()\")\n",
    "#display(cn.head())"
   ]
  },
  {
   "cell_type": "code",
   "execution_count": 25,
   "metadata": {},
   "outputs": [
    {
     "name": "stdout",
     "output_type": "stream",
     "text": [
      "(62060, 10)\n",
      "(4058724, 10)\n",
      "False    3996664\n",
      "True       62060\n",
      "Name: cell_id, dtype: int64\n"
     ]
    }
   ],
   "source": [
    "# Subset small amount of cells\n",
    "n_cell = 10\n",
    "\n",
    "keep_cells = cn_data[\"cell_id\"].value_counts().index[0:n_cell]\n",
    "sub_cn_data = cn_data[cn_data[\"cell_id\"].isin(keep_cells)]"
   ]
  },
  {
   "cell_type": "code",
   "execution_count": 28,
   "metadata": {},
   "outputs": [],
   "source": [
    "# BHC them!\n",
    "from scgenome.cncluster import bayesian_cluster\n",
    "\n",
    "linkage, clusters, cell_ids = bayesian_cluster(sub_cn_data, n_states = sub_cn_data[\"state\"].max())"
   ]
  },
  {
   "cell_type": "code",
   "execution_count": 31,
   "metadata": {},
   "outputs": [
    {
     "data": {
      "image/png": "[encoded data removed]",
      "text/plain": [
       "<Figure size 432x288 with 1 Axes>"
      ]
     },
     "metadata": {
      "needs_background": "light"
     },
     "output_type": "display_data"
    }
   ],
   "source": [
    "from scipy.cluster.hierarchy import dendrogram\n",
    "from scgenome.simulation import get_plot_data\n",
    "\n",
    "plinkage, plot_data = get_plot_data(linkage)\n",
    "f = dendrogram(plot_data)"
   ]
  },
  {
   "cell_type": "code",
   "execution_count": 45,
   "metadata": {},
   "outputs": [
    {
     "name": "stderr",
     "output_type": "stream",
     "text": [
      "2019-09-05 14:12:16,540 - INFO - 4104aeca-9102-403d-9902-0edb10de5265 - TokenRequest:Getting token with client credentials.\n",
      "2019-09-05 14:12:16,791 - INFO - 4104aeca-9102-403d-9902-0edb10de5265 - OAuth2Client:Get Token Server returned this correlation_id: 4104aeca-9102-403d-9902-0edb10de5265\n"
     ]
    },
    {
     "name": "stdout",
     "output_type": "stream",
     "text": [
      "cn_data.head()\n"
     ]
    },
    {
     "data": {
      "text/html": [
       "<div>\n",
       "<style scoped>\n",
       "    .dataframe tbody tr th:only-of-type {\n",
       "        vertical-align: middle;\n",
       "    }\n",
       "\n",
       "    .dataframe tbody tr th {\n",
       "        vertical-align: top;\n",
       "    }\n",
       "\n",
       "    .dataframe thead th {\n",
       "        text-align: right;\n",
       "    }\n",
       "</style>\n",
       "<table border=\"1\" class=\"dataframe\">\n",
       "  <thead>\n",
       "    <tr style=\"text-align: right;\">\n",
       "      <th></th>\n",
       "      <th>chr</th>\n",
       "      <th>start</th>\n",
       "      <th>end</th>\n",
       "      <th>reads</th>\n",
       "      <th>gc</th>\n",
       "      <th>copy</th>\n",
       "      <th>state</th>\n",
       "      <th>cell_id</th>\n",
       "      <th>sample_id</th>\n",
       "      <th>library_id</th>\n",
       "    </tr>\n",
       "  </thead>\n",
       "  <tbody>\n",
       "    <tr>\n",
       "      <th>0</th>\n",
       "      <td>1</td>\n",
       "      <td>1</td>\n",
       "      <td>500000</td>\n",
       "      <td>2</td>\n",
       "      <td>-1.000000</td>\n",
       "      <td>NaN</td>\n",
       "      <td>2</td>\n",
       "      <td>SA1090-A96213A-R34-C64</td>\n",
       "      <td>SA1090</td>\n",
       "      <td>A96213A</td>\n",
       "    </tr>\n",
       "    <tr>\n",
       "      <th>1</th>\n",
       "      <td>1</td>\n",
       "      <td>500001</td>\n",
       "      <td>1000000</td>\n",
       "      <td>42</td>\n",
       "      <td>-1.000000</td>\n",
       "      <td>NaN</td>\n",
       "      <td>2</td>\n",
       "      <td>SA1090-A96213A-R34-C64</td>\n",
       "      <td>SA1090</td>\n",
       "      <td>A96213A</td>\n",
       "    </tr>\n",
       "    <tr>\n",
       "      <th>2</th>\n",
       "      <td>1</td>\n",
       "      <td>1000001</td>\n",
       "      <td>1500000</td>\n",
       "      <td>43</td>\n",
       "      <td>0.598332</td>\n",
       "      <td>3.017390</td>\n",
       "      <td>2</td>\n",
       "      <td>SA1090-A96213A-R34-C64</td>\n",
       "      <td>SA1090</td>\n",
       "      <td>A96213A</td>\n",
       "    </tr>\n",
       "    <tr>\n",
       "      <th>3</th>\n",
       "      <td>1</td>\n",
       "      <td>1500001</td>\n",
       "      <td>2000000</td>\n",
       "      <td>42</td>\n",
       "      <td>0.539498</td>\n",
       "      <td>1.936414</td>\n",
       "      <td>2</td>\n",
       "      <td>SA1090-A96213A-R34-C64</td>\n",
       "      <td>SA1090</td>\n",
       "      <td>A96213A</td>\n",
       "    </tr>\n",
       "    <tr>\n",
       "      <th>4</th>\n",
       "      <td>1</td>\n",
       "      <td>2000001</td>\n",
       "      <td>2500000</td>\n",
       "      <td>36</td>\n",
       "      <td>0.594508</td>\n",
       "      <td>2.439622</td>\n",
       "      <td>2</td>\n",
       "      <td>SA1090-A96213A-R34-C64</td>\n",
       "      <td>SA1090</td>\n",
       "      <td>A96213A</td>\n",
       "    </tr>\n",
       "  </tbody>\n",
       "</table>\n",
       "</div>"
      ],
      "text/plain": [
       "  chr    start      end  reads        gc      copy  state  \\\n",
       "0   1        1   500000      2 -1.000000       NaN      2   \n",
       "1   1   500001  1000000     42 -1.000000       NaN      2   \n",
       "2   1  1000001  1500000     43  0.598332  3.017390      2   \n",
       "3   1  1500001  2000000     42  0.539498  1.936414      2   \n",
       "4   1  2000001  2500000     36  0.594508  2.439622      2   \n",
       "\n",
       "                  cell_id sample_id library_id  \n",
       "0  SA1090-A96213A-R34-C64    SA1090    A96213A  \n",
       "1  SA1090-A96213A-R34-C64    SA1090    A96213A  \n",
       "2  SA1090-A96213A-R34-C64    SA1090    A96213A  \n",
       "3  SA1090-A96213A-R34-C64    SA1090    A96213A  \n",
       "4  SA1090-A96213A-R34-C64    SA1090    A96213A  "
      ]
     },
     "metadata": {},
     "output_type": "display_data"
    }
   ],
   "source": [
    "hmmcopy_tickets = ['SC-1937']\n",
    "sample_ids = ['SA1090']\n",
    "\n",
    "xdata = get_data(hmmcopy_tickets, sample_ids, cached=True)\n",
    "xcn_data = xdata[0]\n",
    "xsegs_data = xdata[1]\n",
    "xmetrics_data = xdata[2]\n",
    "xalign_metrics_data = xdata[3]\n",
    "\n",
    "print(\"cn_data.head()\")\n",
    "display(xcn_data.head())"
   ]
  },
  {
   "cell_type": "code",
   "execution_count": 50,
   "metadata": {},
   "outputs": [],
   "source": [
    "# Subset small amount of cells\n",
    "n_cell = 10\n",
    "\n",
    "xkeep_cells = xcn_data[\"cell_id\"].value_counts().index[0:n_cell]\n",
    "xsub_cn_data = xcn_data[xcn_data[\"cell_id\"].isin(xkeep_cells)]"
   ]
  },
  {
   "cell_type": "code",
   "execution_count": 52,
   "metadata": {},
   "outputs": [
    {
     "data": {
      "image/png": "[encoded data removed]",
      "text/plain": [
       "<Figure size 432x288 with 1 Axes>"
      ]
     },
     "metadata": {
      "needs_background": "light"
     },
     "output_type": "display_data"
    }
   ],
   "source": [
    "# BHC them!\n",
    "xlinkage, xclusters, xcell_ids = bayesian_cluster(xsub_cn_data, n_states = xsub_cn_data[\"state\"].max())\n",
    "\n",
    "xplinkage, xplot_data = get_plot_data(xlinkage)\n",
    "f = dendrogram(xplot_data)"
   ]
  },
  {
   "cell_type": "code",
   "execution_count": 54,
   "metadata": {},
   "outputs": [
    {
     "ename": "KeyboardInterrupt",
     "evalue": "",
     "output_type": "error",
     "traceback": [
      "\u001b[0;31m---------------------------------------------------------------------------\u001b[0m",
      "\u001b[0;31mKeyboardInterrupt\u001b[0m                         Traceback (most recent call last)",
      "\u001b[0;32m<ipython-input-54-036d08180508>\u001b[0m in \u001b[0;36m<module>\u001b[0;34m()\u001b[0m\n\u001b[1;32m      4\u001b[0m \u001b[0;34m\u001b[0m\u001b[0m\n\u001b[1;32m      5\u001b[0m \u001b[0mbi_cn_data\u001b[0m \u001b[0;34m=\u001b[0m \u001b[0mcn_data\u001b[0m\u001b[0;34m.\u001b[0m\u001b[0mappend\u001b[0m\u001b[0;34m(\u001b[0m\u001b[0mxcn_data\u001b[0m\u001b[0;34m)\u001b[0m\u001b[0;34m\u001b[0m\u001b[0;34m\u001b[0m\u001b[0m\n\u001b[0;32m----> 6\u001b[0;31m \u001b[0mbilinkage\u001b[0m\u001b[0;34m,\u001b[0m \u001b[0mbiclusters\u001b[0m\u001b[0;34m,\u001b[0m \u001b[0mbicell_ids\u001b[0m \u001b[0;34m=\u001b[0m \u001b[0mbayesian_cluster\u001b[0m\u001b[0;34m(\u001b[0m\u001b[0mbi_cn_data\u001b[0m\u001b[0;34m,\u001b[0m \u001b[0mn_states\u001b[0m \u001b[0;34m=\u001b[0m \u001b[0mbi_cn_data\u001b[0m\u001b[0;34m[\u001b[0m\u001b[0;34m\"state\"\u001b[0m\u001b[0;34m]\u001b[0m\u001b[0;34m.\u001b[0m\u001b[0mmax\u001b[0m\u001b[0;34m(\u001b[0m\u001b[0;34m)\u001b[0m\u001b[0;34m)\u001b[0m\u001b[0;34m\u001b[0m\u001b[0;34m\u001b[0m\u001b[0m\n\u001b[0m\u001b[1;32m      7\u001b[0m \u001b[0;34m\u001b[0m\u001b[0m\n\u001b[1;32m      8\u001b[0m \u001b[0mbiplinkage\u001b[0m\u001b[0;34m,\u001b[0m \u001b[0mbiplot_data\u001b[0m \u001b[0;34m=\u001b[0m \u001b[0mget_plot_data\u001b[0m\u001b[0;34m(\u001b[0m\u001b[0mbilinkage\u001b[0m\u001b[0;34m)\u001b[0m\u001b[0;34m\u001b[0m\u001b[0;34m\u001b[0m\u001b[0m\n",
      "\u001b[0;32m/Users/massoudmaher/Documents/Code/scgenome/scgenome/cncluster.py\u001b[0m in \u001b[0;36mbayesian_cluster\u001b[0;34m(cn_data, cluster_col, n_states, alpha, value_ids)\u001b[0m\n\u001b[1;32m    194\u001b[0m             \u001b[0mpi\u001b[0m\u001b[0;34m,\u001b[0m \u001b[0md\u001b[0m \u001b[0;34m=\u001b[0m \u001b[0mmerge_cluster\u001b[0m\u001b[0;34m.\u001b[0m\u001b[0mget_pi_d\u001b[0m\u001b[0;34m(\u001b[0m\u001b[0malpha\u001b[0m\u001b[0;34m)\u001b[0m\u001b[0;34m\u001b[0m\u001b[0;34m\u001b[0m\u001b[0m\n\u001b[1;32m    195\u001b[0m             \u001b[0mll\u001b[0m \u001b[0;34m=\u001b[0m \u001b[0mmerge_cluster\u001b[0m\u001b[0;34m.\u001b[0m\u001b[0mget_ll\u001b[0m\u001b[0;34m(\u001b[0m\u001b[0mmeasurement\u001b[0m\u001b[0;34m,\u001b[0m \u001b[0mvariances\u001b[0m\u001b[0;34m,\u001b[0m \u001b[0mtr_mat\u001b[0m\u001b[0;34m)\u001b[0m\u001b[0;34m\u001b[0m\u001b[0;34m\u001b[0m\u001b[0m\n\u001b[0;32m--> 196\u001b[0;31m             \u001b[0mtree_ll\u001b[0m \u001b[0;34m=\u001b[0m \u001b[0mmerge_cluster\u001b[0m\u001b[0;34m.\u001b[0m\u001b[0mget_tree_ll\u001b[0m\u001b[0;34m(\u001b[0m\u001b[0;34m)\u001b[0m\u001b[0;34m\u001b[0m\u001b[0;34m\u001b[0m\u001b[0m\n\u001b[0m\u001b[1;32m    197\u001b[0m             \u001b[0mr\u001b[0m\u001b[0;34m[\u001b[0m\u001b[0mi\u001b[0m\u001b[0;34m,\u001b[0m \u001b[0mj\u001b[0m\u001b[0;34m]\u001b[0m \u001b[0;34m=\u001b[0m \u001b[0mmerge_cluster\u001b[0m\u001b[0;34m.\u001b[0m\u001b[0mget_log_r\u001b[0m\u001b[0;34m(\u001b[0m\u001b[0;34m)\u001b[0m\u001b[0;34m\u001b[0m\u001b[0;34m\u001b[0m\u001b[0m\n\u001b[1;32m    198\u001b[0m             \u001b[0mnext_level\u001b[0m\u001b[0;34m[\u001b[0m\u001b[0mi\u001b[0m\u001b[0;34m]\u001b[0m\u001b[0;34m[\u001b[0m\u001b[0mj\u001b[0m\u001b[0;34m]\u001b[0m \u001b[0;34m=\u001b[0m \u001b[0mmerge_cluster\u001b[0m\u001b[0;34m\u001b[0m\u001b[0;34m\u001b[0m\u001b[0m\n",
      "\u001b[0;32m/Users/massoudmaher/Documents/Code/scgenome/scgenome/TNode.py\u001b[0m in \u001b[0;36mget_ll\u001b[0;34m(self, measurement, variances, tr_mat)\u001b[0m\n\u001b[1;32m     54\u001b[0m                  \u001b[0mself\u001b[0m\u001b[0;34m.\u001b[0m\u001b[0mright_child\u001b[0m\u001b[0;34m.\u001b[0m\u001b[0mtree_ll\u001b[0m\u001b[0;34m\u001b[0m\u001b[0;34m\u001b[0m\u001b[0m\n\u001b[1;32m     55\u001b[0m         \u001b[0mself\u001b[0m\u001b[0;34m.\u001b[0m\u001b[0mtree_ll\u001b[0m \u001b[0;34m=\u001b[0m \u001b[0mlogsumexp\u001b[0m\u001b[0;34m(\u001b[0m\u001b[0;34m[\u001b[0m\u001b[0mfirst\u001b[0m\u001b[0;34m,\u001b[0m \u001b[0msecond\u001b[0m\u001b[0;34m]\u001b[0m\u001b[0;34m)\u001b[0m\u001b[0;34m\u001b[0m\u001b[0;34m\u001b[0m\u001b[0m\n\u001b[0;32m---> 56\u001b[0;31m         \u001b[0;32mreturn\u001b[0m \u001b[0mself\u001b[0m\u001b[0;34m.\u001b[0m\u001b[0mtree_ll\u001b[0m\u001b[0;34m\u001b[0m\u001b[0;34m\u001b[0m\u001b[0m\n\u001b[0m\u001b[1;32m     57\u001b[0m \u001b[0;34m\u001b[0m\u001b[0m\n\u001b[1;32m     58\u001b[0m     \u001b[0;32mdef\u001b[0m \u001b[0mget_ll\u001b[0m\u001b[0;34m(\u001b[0m\u001b[0mself\u001b[0m\u001b[0;34m,\u001b[0m \u001b[0mmeasurement\u001b[0m\u001b[0;34m,\u001b[0m \u001b[0mvariances\u001b[0m\u001b[0;34m,\u001b[0m \u001b[0mtr_mat\u001b[0m\u001b[0;34m)\u001b[0m\u001b[0;34m:\u001b[0m\u001b[0;34m\u001b[0m\u001b[0;34m\u001b[0m\u001b[0m\n",
      "\u001b[0;32m/Users/massoudmaher/Documents/Code/scgenome/scgenome/jointcnmodels.py\u001b[0m in \u001b[0;36mcalculate_marginal_ll_simple\u001b[0;34m(data, variances, tr_mat)\u001b[0m\n\u001b[1;32m     48\u001b[0m         \u001b[0mtr_mat\u001b[0m\u001b[0;34m,\u001b[0m\u001b[0;34m\u001b[0m\u001b[0;34m\u001b[0m\u001b[0m\n\u001b[1;32m     49\u001b[0m         \u001b[0malphas\u001b[0m\u001b[0;34m,\u001b[0m\u001b[0;34m\u001b[0m\u001b[0;34m\u001b[0m\u001b[0m\n\u001b[0;32m---> 50\u001b[0;31m         betas)\n\u001b[0m\u001b[1;32m     51\u001b[0m \u001b[0;34m\u001b[0m\u001b[0m\n\u001b[1;32m     52\u001b[0m     \u001b[0;32mreturn\u001b[0m \u001b[0mscipy\u001b[0m\u001b[0;34m.\u001b[0m\u001b[0mspecial\u001b[0m\u001b[0;34m.\u001b[0m\u001b[0mlogsumexp\u001b[0m\u001b[0;34m(\u001b[0m\u001b[0malphas\u001b[0m\u001b[0;34m[\u001b[0m\u001b[0;34m-\u001b[0m\u001b[0;36m1\u001b[0m\u001b[0;34m,\u001b[0m \u001b[0;34m:\u001b[0m\u001b[0;34m]\u001b[0m\u001b[0;34m)\u001b[0m\u001b[0;34m\u001b[0m\u001b[0;34m\u001b[0m\u001b[0m\n",
      "\u001b[0;31mKeyboardInterrupt\u001b[0m: "
     ]
    }
   ],
   "source": [
    "# Combine two datasets and see if we can seperate \n",
    "cn_data[\"cell_id\"] = \"cl1_\" + cn_data[\"cell_id\"].astype(\"str\")\n",
    "xcn_data[\"cell_id\"] = \"cl2_\" + xcn_data[\"cell_id\"].astype(\"str\")\n",
    "\n",
    "bi_cn_data = cn_data.append(xcn_data)\n",
    "bilinkage, biclusters, bicell_ids = bayesian_cluster(bi_cn_data, n_states = bi_cn_data[\"state\"].max())\n",
    "\n",
    "biplinkage, biplot_data = get_plot_data(bilinkage)\n",
    "f = dendrogram(biplot_data)"
   ]
  },
  {
   "cell_type": "code",
   "execution_count": null,
   "metadata": {},
   "outputs": [],
   "source": [
    "cl_ids = bicell_ids.str[2]\n",
    "biplinkage, biplot_data = get_plot_data(bilinkage)\n",
    "f = dendrogram(biplot_data, lavels=cl_ids)"
   ]
  }
 ],
 "metadata": {
  "kernelspec": {
   "display_name": "myenv",
   "language": "python",
   "name": "myenv"
  },
  "language_info": {
   "codemirror_mode": {
    "name": "ipython",
    "version": 3
   },
   "file_extension": ".py",
   "mimetype": "text/x-python",
   "name": "python",
   "nbconvert_exporter": "python",
   "pygments_lexer": "ipython3",
   "version": "3.7.4"
  }
 },
 "nbformat": 4,
 "nbformat_minor": 4
}
