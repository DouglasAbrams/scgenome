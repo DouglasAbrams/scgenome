{
 "cells": [
  {
   "cell_type": "markdown",
   "metadata": {},
   "source": [
    "Notebook with toy example to test/demonstrate bayesian hierarchical clustering"
   ]
  },
  {
   "cell_type": "code",
   "execution_count": 12,
   "metadata": {},
   "outputs": [
    {
     "name": "stderr",
     "output_type": "stream",
     "text": [
      "/Users/massoudmaher/Documents/Code/scgenome/venv/lib/python3.7/site-packages/ipykernel_launcher.py:33: SettingWithCopyWarning: \n",
      "A value is trying to be set on a copy of a slice from a DataFrame.\n",
      "Try using .loc[row_indexer,col_indexer] = value instead\n",
      "\n",
      "See the caveats in the documentation: http://pandas.pydata.org/pandas-docs/stable/indexing.html#indexing-view-versus-copy\n",
      "/Users/massoudmaher/Documents/Code/scgenome/venv/lib/python3.7/site-packages/ipykernel_launcher.py:34: SettingWithCopyWarning: \n",
      "A value is trying to be set on a copy of a slice from a DataFrame.\n",
      "Try using .loc[row_indexer,col_indexer] = value instead\n",
      "\n",
      "See the caveats in the documentation: http://pandas.pydata.org/pandas-docs/stable/indexing.html#indexing-view-versus-copy\n"
     ]
    },
    {
     "data": {
      "text/plain": [
       "{'icoord': [[5.0, 5.0, 15.0, 15.0],\n",
       "  [25.0, 25.0, 35.0, 35.0],\n",
       "  [10.0, 10.0, 30.0, 30.0],\n",
       "  [45.0, 45.0, 55.0, 55.0],\n",
       "  [65.0, 65.0, 75.0, 75.0],\n",
       "  [50.0, 50.0, 70.0, 70.0],\n",
       "  [85.0, 85.0, 95.0, 95.0],\n",
       "  [60.0, 60.0, 90.0, 90.0],\n",
       "  [20.0, 20.0, 75.0, 75.0]],\n",
       " 'dcoord': [[0.0, 91154.22223733149, 91154.22223733149, 0.0],\n",
       "  [0.0, 43926.37938857273, 43926.37938857273, 0.0],\n",
       "  [91154.22223733149,\n",
       "   224004.08931264124,\n",
       "   224004.08931264124,\n",
       "   43926.37938857273],\n",
       "  [0.0, 55429.23216472719, 55429.23216472719, 0.0],\n",
       "  [0.0, 61572.179215831115, 61572.179215831115, 0.0],\n",
       "  [55429.23216472719,\n",
       "   207373.99632807393,\n",
       "   207373.99632807393,\n",
       "   61572.179215831115],\n",
       "  [0.0, 87360.0822002614, 87360.0822002614, 0.0],\n",
       "  [207373.99632807393, 393079.1541864936, 393079.1541864936, 87360.0822002614],\n",
       "  [224004.08931264124, 784713.04219068, 784713.04219068, 393079.1541864936]],\n",
       " 'ivl': ['cl1_cell0',\n",
       "  'cl1_cell1',\n",
       "  'cl2_cell3',\n",
       "  'cl2_cell4',\n",
       "  'cl1_cell2',\n",
       "  'cl2_cell1',\n",
       "  'cl1_cell3',\n",
       "  'cl2_cell0',\n",
       "  'cl1_cell4',\n",
       "  'cl2_cell2'],\n",
       " 'leaves': [0, 1, 8, 9, 2, 6, 3, 5, 4, 7],\n",
       " 'color_list': ['g', 'g', 'g', 'r', 'r', 'r', 'r', 'r', 'b']}"
      ]
     },
     "execution_count": 12,
     "metadata": {},
     "output_type": "execute_result"
    },
    {
     "data": {
      "image/png": "[encoded data removed]",
      "text/plain": [
       "<Figure size 1152x360 with 1 Axes>"
      ]
     },
     "metadata": {
      "needs_background": "light"
     },
     "output_type": "display_data"
    }
   ],
   "source": [
    "import scgenome.simulation as sim\n",
    "import numpy as np\n",
    "import pandas as pd\n",
    "from IPython.display import display\n",
    "from scgenome import cncluster\n",
    "from scgenome.utils import cn_mat_to_cn_data, cn_mat_as_df\n",
    "from scipy.cluster.hierarchy import dendrogram, linkage\n",
    "from matplotlib import pyplot as plt\n",
    "\n",
    "NUM_SAMPLE = 5\n",
    "NUM_BIN = 1000\n",
    "CHR_NAMES = [\"1\",\"2\"]\n",
    "max_cn = 7\n",
    "\n",
    "cluster1 = sim.cn_mat_poisson(NUM_SAMPLE, NUM_BIN, init_lambda=1., jump_lambda=0.5, seed=None, max_cn=max_cn)\n",
    "cluster2 = sim.cn_mat_poisson(NUM_SAMPLE, NUM_BIN, init_lambda=3., jump_lambda=0.1, seed=None, max_cn=max_cn)\n",
    "\n",
    "clst1_cell_ids = [f\"cl1_cell{i}\" for i in range(cluster1.shape[0])]\n",
    "clst2_cell_ids = [f\"cl2_cell{i}\" for i in range(cluster1.shape[0])]\n",
    "\n",
    "cn_mat = np.concatenate([cluster1, cluster2])\n",
    "cell_ids = clst1_cell_ids + clst2_cell_ids\n",
    "\n",
    "df_cn_mat = cn_mat_as_df(cn_mat,CHR_NAMES)\n",
    "cn_data = cn_mat_to_cn_data(df_cn_mat, cell_id_vals=cell_ids)\n",
    "cn_data[\"cluster_id\"] = cn_data[\"cell_id\"].str.split(\"_\",expand=True).iloc[:,0]\n",
    "cn_data[\"copy2\"] = cn_data[\"copy\"] + np.absolute(np.random.normal(size=cn_data.shape[0], scale=0.3))\n",
    "cn_data.columns = [\"chr\", \"bin\", \"cell_id\", \"state\", \"start\", \"end\", \"cluster_id\", \"copy\"]\n",
    "\n",
    "tlinkage, root, cell_ids = cncluster.bayesian_cluster(cn_data, n_states=max_cn, value_ids=[\"copy\"])\n",
    "\n",
    "plinkage = tlinkage[[\"i\",\"j\",\"r_merge\",\"merge_count\"]]\n",
    "plinkage[\"r_merge\"] = plinkage[\"r_merge\"].astype(\"float\")\n",
    "plinkage[\"dist\"] = -1 * plinkage[\"r_merge\"]\n",
    "plot_data = plinkage[[\"i\",\"j\",\"dist\",\"merge_count\"]].to_numpy().astype(\"float\")\n",
    "\n",
    "fig = plt.figure(figsize=(16, 5))\n",
    "dendrogram(plot_data, labels=cell_ids)"
   ]
  },
  {
   "cell_type": "code",
   "execution_count": 3,
   "metadata": {},
   "outputs": [
    {
     "data": {
      "text/plain": [
       "cell_id\n",
       "cl1_cell0    cl1_cell0\n",
       "cl1_cell1    cl1_cell1\n",
       "cl1_cell2    cl1_cell2\n",
       "cl1_cell3    cl1_cell3\n",
       "cl1_cell4    cl1_cell4\n",
       "cl2_cell0    cl2_cell0\n",
       "cl2_cell1    cl2_cell1\n",
       "cl2_cell2    cl2_cell2\n",
       "cl2_cell3    cl2_cell3\n",
       "cl2_cell4    cl2_cell4\n",
       "Name: cell_id, dtype: object"
      ]
     },
     "execution_count": 3,
     "metadata": {},
     "output_type": "execute_result"
    }
   ],
   "source": [
    "cell_ids"
   ]
  },
  {
   "cell_type": "code",
   "execution_count": null,
   "metadata": {},
   "outputs": [],
   "source": []
  }
 ],
 "metadata": {
  "kernelspec": {
   "display_name": "myenv",
   "language": "python",
   "name": "myenv"
  },
  "language_info": {
   "codemirror_mode": {
    "name": "ipython",
    "version": 3
   },
   "file_extension": ".py",
   "mimetype": "text/x-python",
   "name": "python",
   "nbconvert_exporter": "python",
   "pygments_lexer": "ipython3",
   "version": "3.7.4"
  }
 },
 "nbformat": 4,
 "nbformat_minor": 4
}
