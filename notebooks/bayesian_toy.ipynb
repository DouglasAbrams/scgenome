{
 "cells": [
  {
   "cell_type": "markdown",
   "metadata": {},
   "source": [
    "# Explanation\n",
    "Samples are generated as a \"poisson random walk\" where the CN in first state is random poisson, and then the following CN=CN+jump where jump is a poisson random variable. Two clusters were simulated using different jump, initialization parameters and then they were clustered."
   ]
  },
  {
   "cell_type": "code",
   "execution_count": 27,
   "metadata": {},
   "outputs": [
    {
     "name": "stderr",
     "output_type": "stream",
     "text": [
      "/Users/massoudmaher/Documents/Code/scgenome/venv/lib/python3.7/site-packages/ipykernel_launcher.py:33: SettingWithCopyWarning: \n",
      "A value is trying to be set on a copy of a slice from a DataFrame.\n",
      "Try using .loc[row_indexer,col_indexer] = value instead\n",
      "\n",
      "See the caveats in the documentation: http://pandas.pydata.org/pandas-docs/stable/indexing.html#indexing-view-versus-copy\n",
      "/Users/massoudmaher/Documents/Code/scgenome/venv/lib/python3.7/site-packages/ipykernel_launcher.py:34: SettingWithCopyWarning: \n",
      "A value is trying to be set on a copy of a slice from a DataFrame.\n",
      "Try using .loc[row_indexer,col_indexer] = value instead\n",
      "\n",
      "See the caveats in the documentation: http://pandas.pydata.org/pandas-docs/stable/indexing.html#indexing-view-versus-copy\n"
     ]
    },
    {
     "data": {
      "text/plain": [
       "{'icoord': [[5.0, 5.0, 15.0, 15.0],\n",
       "  [25.0, 25.0, 35.0, 35.0],\n",
       "  [10.0, 10.0, 30.0, 30.0],\n",
       "  [45.0, 45.0, 55.0, 55.0],\n",
       "  [65.0, 65.0, 75.0, 75.0],\n",
       "  [50.0, 50.0, 70.0, 70.0],\n",
       "  [20.0, 20.0, 60.0, 60.0],\n",
       "  [85.0, 85.0, 95.0, 95.0],\n",
       "  [105.0, 105.0, 115.0, 115.0],\n",
       "  [90.0, 90.0, 110.0, 110.0],\n",
       "  [40.0, 40.0, 100.0, 100.0]],\n",
       " 'dcoord': [[0.0, 78360.17959558574, 78360.17959558574, 0.0],\n",
       "  [0.0, 45735.89612314391, 45735.89612314391, 0.0],\n",
       "  [78360.17959558574,\n",
       "   205305.98570420203,\n",
       "   205305.98570420203,\n",
       "   45735.89612314391],\n",
       "  [0.0, 63401.027139651735, 63401.027139651735, 0.0],\n",
       "  [0.0, 44450.76029747511, 44450.76029747511, 0.0],\n",
       "  [63401.027139651735,\n",
       "   161300.07221323962,\n",
       "   161300.07221323962,\n",
       "   44450.76029747511],\n",
       "  [205305.98570420203,\n",
       "   542980.0563453556,\n",
       "   542980.0563453556,\n",
       "   161300.07221323962],\n",
       "  [0.0, 88047.48339224258, 88047.48339224258, 0.0],\n",
       "  [0.0, 91109.48301403999, 91109.48301403999, 0.0],\n",
       "  [88047.48339224258, 273227.7546311023, 273227.7546311023, 91109.48301403999],\n",
       "  [542980.0563453556,\n",
       "   960384.3579722864,\n",
       "   960384.3579722864,\n",
       "   273227.7546311023]],\n",
       " 'ivl': ['1', '1', '2', '2', '2', '2', '2', '2', '1', '1', '1', '1'],\n",
       " 'leaves': [0, 4, 7, 9, 6, 8, 10, 11, 1, 3, 2, 5],\n",
       " 'color_list': ['g', 'g', 'g', 'g', 'g', 'g', 'g', 'r', 'r', 'r', 'b']}"
      ]
     },
     "execution_count": 27,
     "metadata": {},
     "output_type": "execute_result"
    },
    {
     "data": {
      "image/png": "[encoded data removed]",
      "text/plain": [
       "<Figure size 1152x360 with 1 Axes>"
      ]
     },
     "metadata": {
      "needs_background": "light"
     },
     "output_type": "display_data"
    }
   ],
   "source": [
    "import scgenome.simulation as sim\n",
    "import numpy as np\n",
    "import pandas as pd\n",
    "from IPython.display import display\n",
    "from scgenome import cncluster\n",
    "from scgenome.utils import cn_mat_to_cn_data, cn_mat_as_df\n",
    "from scipy.cluster.hierarchy import dendrogram, linkage\n",
    "from matplotlib import pyplot as plt\n",
    "\n",
    "NUM_SAMPLE = 6\n",
    "NUM_BIN = 1000\n",
    "CHR_NAMES = [\"1\",\"2\"]\n",
    "max_cn=7\n",
    "\n",
    "cluster1 = sim.cn_mat_poisson(NUM_SAMPLE, NUM_BIN, init_lambda=1., jump_lambda=1, seed=None, max_cn=max_cn)\n",
    "cluster2 = sim.cn_mat_poisson(NUM_SAMPLE, NUM_BIN, init_lambda=3., jump_lambda=0.1, seed=None, max_cn=max_cn)\n",
    "\n",
    "clst1_cell_ids = [f\"cl1_cell{i}\" for i in range(cluster1.shape[0])]\n",
    "clst2_cell_ids = [f\"cl2_cell{i}\" for i in range(cluster1.shape[0])]\n",
    "\n",
    "cn_mat = np.concatenate([cluster1, cluster2])\n",
    "cell_ids = clst1_cell_ids + clst2_cell_ids\n",
    "\n",
    "df_cn_mat = cn_mat_as_df(cn_mat,CHR_NAMES)\n",
    "cn_data = cn_mat_to_cn_data(df_cn_mat, cell_id_vals=cell_ids)\n",
    "cn_data[\"cluster_id\"] = cn_data[\"cell_id\"].str.split(\"_\",expand=True).iloc[:,0]\n",
    "cn_data[\"copy2\"] = cn_data[\"copy\"] + np.absolute(np.random.normal(size=cn_data.shape[0], scale=0.3))\n",
    "cn_data.columns = [\"chr\", \"bin\", \"cell_id\", \"state\", \"start\", \"end\", \"cluster_id\", \"copy\"]\n",
    "\n",
    "tlinkage, root, cell_ids = cncluster.bayesian_cluster(cn_data, n_states=max_cn, value_ids=[\"copy\"])\n",
    "\n",
    "plinkage = tlinkage[[\"i\",\"j\",\"r_merge\",\"merge_count\"]]\n",
    "plinkage[\"r_merge\"] = plinkage[\"r_merge\"].astype(\"float\")\n",
    "plinkage[\"dist\"] = -1 * plinkage[\"r_merge\"]\n",
    "plot_data = plinkage[[\"i\",\"j\",\"dist\",\"merge_count\"]].to_numpy().astype(\"float\")\n",
    "\n",
    "cell_ids = cell_ids.str[2]\n",
    "fig = plt.figure(figsize=(16, 5))\n",
    "dendrogram(plot_data, labels=cell_ids)"
   ]
  },
  {
   "cell_type": "markdown",
   "metadata": {},
   "source": [
    "# Analysis\n",
    "Doesn't work too well. The y-axis is `-marginal_log_likelihood` and the values are quite high so I question it. Should be getting good clustering"
   ]
  },
  {
   "cell_type": "code",
   "execution_count": 37,
   "metadata": {},
   "outputs": [
    {
     "name": "stdout",
     "output_type": "stream",
     "text": [
      "sample_inds : [0, 4, 7, 9, 6, 8, 10, 11], left_child : <scgenome.TNode.TNode object at 0x10b15e490> right_child : <scgenome.TNode.TNode object at 0x10b15e490> pi : None, d : None, ll : None, log_r : -542980.0563453556, cluster_ind : 21\n",
      "\n",
      "\n",
      "sample_inds : [0, 4, 7, 9, 6, 8, 10, 11, 1, 3, 2, 5], left_child : <scgenome.TNode.TNode object at 0x10b15e190> right_child : <scgenome.TNode.TNode object at 0x10b15e190> pi : None, d : None, ll : None, log_r : -960384.3579722864, cluster_ind : 22\n"
     ]
    }
   ],
   "source": [
    "print(root.left_child)\n",
    "print(\"\\n\")\n",
    "print(root)"
   ]
  },
  {
   "cell_type": "code",
   "execution_count": null,
   "metadata": {},
   "outputs": [],
   "source": []
  }
 ],
 "metadata": {
  "kernelspec": {
   "display_name": "myenv",
   "language": "python",
   "name": "myenv"
  },
  "language_info": {
   "codemirror_mode": {
    "name": "ipython",
    "version": 3
   },
   "file_extension": ".py",
   "mimetype": "text/x-python",
   "name": "python",
   "nbconvert_exporter": "python",
   "pygments_lexer": "ipython3",
   "version": "3.7.4"
  }
 },
 "nbformat": 4,
 "nbformat_minor": 4
}
