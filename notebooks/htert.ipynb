{
 "cells": [
  {
   "cell_type": "code",
   "execution_count": 1,
   "metadata": {},
   "outputs": [
    {
     "ename": "ImportError",
     "evalue": "No module named scgenome",
     "output_type": "error",
     "traceback": [
      "\u001b[0;31m\u001b[0m",
      "\u001b[0;31mImportError\u001b[0mTraceback (most recent call last)",
      "\u001b[0;32m<ipython-input-1-69f9ae900e9c>\u001b[0m in \u001b[0;36m<module>\u001b[0;34m()\u001b[0m\n\u001b[1;32m     17\u001b[0m \u001b[0;32mimport\u001b[0m \u001b[0msklearn\u001b[0m\u001b[0;34m.\u001b[0m\u001b[0mpreprocessing\u001b[0m\u001b[0;34m\u001b[0m\u001b[0m\n\u001b[1;32m     18\u001b[0m \u001b[0;34m\u001b[0m\u001b[0m\n\u001b[0;32m---> 19\u001b[0;31m \u001b[0;32mimport\u001b[0m \u001b[0mscgenome\u001b[0m\u001b[0;34m\u001b[0m\u001b[0m\n\u001b[0m\u001b[1;32m     20\u001b[0m \u001b[0;34m\u001b[0m\u001b[0m\n\u001b[1;32m     21\u001b[0m \u001b[0;32mimport\u001b[0m \u001b[0mdbclients\u001b[0m\u001b[0;34m.\u001b[0m\u001b[0mtantalus\u001b[0m\u001b[0;34m\u001b[0m\u001b[0m\n",
      "\u001b[0;31mImportError\u001b[0m: No module named scgenome"
     ]
    }
   ],
   "source": [
    "\n",
    "\n",
    "%matplotlib inline\n",
    "%load_ext autoreload\n",
    "%autoreload 2\n",
    "\n",
    "import os\n",
    "import numpy as np\n",
    "import matplotlib.pyplot as plt\n",
    "import pandas as pd\n",
    "import wget\n",
    "\n",
    "import seaborn\n",
    "import numpy as np\n",
    "import pandas as pd\n",
    "import pylab\n",
    "import sklearn.preprocessing\n",
    "\n",
    "import scgenome\n",
    "\n",
    "import dbclients.tantalus\n",
    "from dbclients.basicclient import NotFoundError\n",
    "import datamanagement.transfer_files\n",
    "\n",
    "import envsetup\n",
    "\n",
    "sample_ids = [\n",
    "    'SA039',\n",
    "    'SA1101',\n",
    "    'SA906',\n",
    "]\n",
    "\n",
    "local_storage_directory = '/home/ubuntu/tantalus_data/'\n",
    "\n",
    "results_storage_name = 'singlecellblob_results'\n",
    "\n",
    "tantalus_api = dbclients.tantalus.TantalusApi()\n",
    "\n",
    "client = tantalus_api.get_storage_client(results_storage_name)\n"
   ]
  },
  {
   "cell_type": "code",
   "execution_count": null,
   "metadata": {},
   "outputs": [],
   "source": [
    "\n",
    "library_ids = [\n",
    "    'A96225B',\n",
    "    'A96162A',\n",
    "    'A96155C',\n",
    "    'A96240A',\n",
    "    'A96225C',\n",
    "    'A96193B',\n",
    "    'A96183B',\n",
    "    'A96240B',\n",
    "    'A96181C',\n",
    "    'A96233B',\n",
    "    'A96190A',\n",
    "#     'A95634B',\n",
    "#     'A95668B',\n",
    "#     'A95663B',\n",
    "    'A96180B',\n",
    "    'A96210C',\n",
    "    'A96216A',\n",
    "    'A96175C',\n",
    "#     'A96195A',\n",
    "    'A96183C',\n",
    "    'A96163B',\n",
    "    'A96186A',\n",
    "    'A96189B',\n",
    "    'A96146A',\n",
    "#     'A96215A',\n",
    "    'A96170B',\n",
    "    'A96211C',\n",
    "    'A96172B',\n",
    "    'A96155B',\n",
    "    'A96220B',\n",
    "    'A96228B',\n",
    "    'A96149B',\n",
    "    'A96193A',\n",
    "    'A90554C',\n",
    "    'A90600C',\n",
    "    'A73046B',\n",
    "    'A73056B',\n",
    "    'A95660A',\n",
    "    'A96199B',\n",
    "    'A96226B',\n",
    "    'A73044B',\n",
    "    'A73047D',\n",
    "]\n"
   ]
  },
  {
   "cell_type": "code",
   "execution_count": null,
   "metadata": {},
   "outputs": [],
   "source": [
    "\n",
    "hmmcopy_results = {}\n",
    "hmmcopy_tickets = []\n",
    "\n",
    "for library_id in library_ids:\n",
    "    print library_id\n",
    "    analyses = list(tantalus_api.list(\n",
    "        'analysis',\n",
    "        analysis_type__name='hmmcopy',\n",
    "        input_datasets__library__library_id=library_id,\n",
    "    ))\n",
    "    aln_analyses = []\n",
    "    for analysis in analyses:\n",
    "        aligners = set()\n",
    "        for dataset_id in analysis['input_datasets']:\n",
    "            dataset = tantalus_api.get('sequencedataset', id=dataset_id)\n",
    "            aligners.add(dataset['aligner'])\n",
    "        if len(aligners) != 1:\n",
    "            raise Exception('found {} aligners for analysis {}'.format(\n",
    "                len(aligners), analysis['id']))\n",
    "        aligner = aligners.pop()\n",
    "        if aligner == 'BWA_ALN_0_5_7':\n",
    "            aln_analyses.append(analysis)\n",
    "    if len(aln_analyses) != 1:\n",
    "        raise Exception('found {} hmmcopy analyses for {}: {}'.format(\n",
    "            len(aln_analyses), library_id, [a['id'] for a in aln_analyses]))\n",
    "    analysis = aln_analyses[0]\n",
    "    results = tantalus_api.get(\n",
    "        'resultsdataset',\n",
    "        analysis=analysis['id'],\n",
    "    )\n",
    "    hmmcopy_results[library_id] = results\n",
    "    hmmcopy_tickets.append(analysis['jira_ticket'])\n"
   ]
  },
  {
   "cell_type": "code",
   "execution_count": null,
   "metadata": {},
   "outputs": [],
   "source": [
    "\n",
    "cell_cycle_data = []\n",
    "for library_id in library_ids:\n",
    "    print library_id\n",
    "    classifier = tantalus_api.get(\n",
    "        'analysis',\n",
    "        analysis_type='cell_state_classifier',\n",
    "        version='v0.0.1',\n",
    "        input_results__id=hmmcopy_results[library_id]['id'],\n",
    "    )\n",
    "    features = tantalus_api.get(\n",
    "        'resultsdataset',\n",
    "        analysis=classifier['id'],\n",
    "    )\n",
    "    file_instances = tantalus_api.get_dataset_file_instances(\n",
    "        features['id'], 'resultsdataset', results_storage_name)\n",
    "    for file_instance in file_instances:\n",
    "        f = client.open_file(file_instance['file_resource']['filename'])\n",
    "        data = pd.read_csv(f)\n",
    "        data['library_id'] = library_id\n",
    "        cell_cycle_data.append(data)\n",
    "cell_cycle_data = pd.concat(cell_cycle_data, ignore_index=True)\n",
    "cell_cycle_data.head()\n"
   ]
  },
  {
   "cell_type": "code",
   "execution_count": null,
   "metadata": {},
   "outputs": [],
   "source": [
    "\n",
    "image_feature_data = []\n",
    "for library_id in library_ids:\n",
    "    try:\n",
    "        features = tantalus_api.get(\n",
    "            'results',\n",
    "            results_type='CELLENONE_FEATURES',\n",
    "            results_version='v0.0.1',\n",
    "            libraries__library_id=library_id,\n",
    "        )\n",
    "    except NotFoundError:\n",
    "        continue\n",
    "    file_instances = tantalus_api.get_dataset_file_instances(\n",
    "        features['id'], 'resultsdataset', results_storage_name)\n",
    "    for file_instance in file_instances:\n",
    "        f = client.open_file(file_instance['file_resource']['filename'])\n",
    "        data = pd.read_csv(f, index_col=0)\n",
    "        data['library_id'] = library_id\n",
    "        image_feature_data.append(data)\n",
    "image_feature_data = pd.concat(image_feature_data, ignore_index=True)\n"
   ]
  },
  {
   "cell_type": "code",
   "execution_count": null,
   "metadata": {},
   "outputs": [],
   "source": [
    "\n",
    "image_feature_data.groupby(['library_id', 'spotter']).size().rename('count').reset_index()\n"
   ]
  },
  {
   "cell_type": "code",
   "execution_count": null,
   "metadata": {},
   "outputs": [],
   "source": [
    "\n",
    "plot_data = image_feature_data[image_feature_data['spotter'] == 'rachael']\n",
    "\n",
    "seaborn.factorplot(\n",
    "    x='Diameter',\n",
    "    y='library_id',\n",
    "    data=plot_data,\n",
    "    kind='box',\n",
    ")\n"
   ]
  },
  {
   "cell_type": "code",
   "execution_count": null,
   "metadata": {
    "scrolled": true
   },
   "outputs": [],
   "source": [
    "\n",
    "import scgenome.dataimport\n",
    "\n",
    "results = scgenome.dataimport.import_cn_data(\n",
    "    hmmcopy_tickets,\n",
    "    local_storage_directory,\n",
    "    ploidy_solution='2',\n",
    "    subsample=0.25,\n",
    ")\n",
    "\n",
    "cn_data = results['hmmcopy_reads']\n",
    "metrics_data = results['hmmcopy_metrics']\n"
   ]
  },
  {
   "cell_type": "code",
   "execution_count": null,
   "metadata": {},
   "outputs": [],
   "source": [
    "\n",
    "cn_data['chr'] = cn_data['chr'].astype('category')\n",
    "cn_data['cell_id'] = cn_data['cell_id'].astype('category')\n",
    "cn_data['sample_id'] = cn_data['sample_id'].astype('category')\n",
    "cn_data['library_id'] = cn_data['library_id'].astype('category')\n"
   ]
  },
  {
   "cell_type": "code",
   "execution_count": null,
   "metadata": {
    "scrolled": true
   },
   "outputs": [],
   "source": [
    "\n",
    "metrics_data = metrics_data.merge(cell_cycle_data)\n",
    "\n",
    "metrics_data['total_mapped_reads'] = metrics_data.get('total_mapped_reads')\n",
    "metrics_data['total_mapped_reads_hmmcopy'] = metrics_data.get('total_mapped_reads_hmmcopy')\n",
    "metrics_data['total_mapped_reads'] = np.maximum(\n",
    "    metrics_data['total_mapped_reads'].fillna(0),\n",
    "    metrics_data['total_mapped_reads_hmmcopy'].fillna(0))\n",
    "\n",
    "for library_id, library_metrics_data in metrics_data.groupby('library_id'):\n",
    "    plt.figure()\n",
    "    plt.title(library_id)\n",
    "    library_metrics_data['total_mapped_reads'].hist(bins=50)\n",
    "\n",
    "test_data = metrics_data.copy()\n",
    "test_data['is_in_sample_list'] = test_data['sample_id'].isin(sample_ids)\n",
    "test_data[['library_id', 'sample_id', 'is_in_sample_list']].drop_duplicates()\n"
   ]
  },
  {
   "cell_type": "code",
   "execution_count": null,
   "metadata": {},
   "outputs": [],
   "source": [
    "\n",
    "metrics_data['brief_cell_id'] = metrics_data['cell_id'].apply(lambda a: a.split('-', 1)[1])\n"
   ]
  },
  {
   "cell_type": "code",
   "execution_count": null,
   "metadata": {},
   "outputs": [],
   "source": [
    "\n",
    "metrics_data['total_mapped_reads'].hist()\n",
    "\n",
    "print 'original', len(metrics_data['cell_id'].unique())\n",
    "metrics_data = metrics_data[metrics_data['total_mapped_reads'] > 500000]\n",
    "print 'readcount', len(metrics_data['cell_id'].unique())\n",
    "# metrics_data = metrics_data[metrics_data['quality'] > 0.5]\n",
    "print 'quality', len(metrics_data['cell_id'].unique())\n",
    "\n",
    "cn_data = cn_data.merge(metrics_data[['cell_id']].drop_duplicates())\n"
   ]
  },
  {
   "cell_type": "code",
   "execution_count": null,
   "metadata": {},
   "outputs": [],
   "source": [
    "\n",
    "import scgenome.cncluster\n",
    "\n",
    "cn = cn_data.set_index(['chr', 'start', 'cell_id'])['copy'].unstack(level=2).fillna(0)\n",
    "\n",
    "# Remove s phase cells\n",
    "non_s_cells = metrics_data[~metrics_data['is_s_phase']]['cell_id']\n",
    "cn = cn.reindex(columns=non_s_cells)\n",
    "\n",
    "cluster_df = scgenome.cncluster.umap_hdbscan_cluster(cn)\n",
    "\n",
    "clone_cn = (\n",
    "    cn_data.merge(cluster_df).groupby(['chr', 'start', 'end', 'cluster_id'])['copy']\n",
    "    .median().rename('clone_cn').reset_index())\n",
    "\n",
    "cluster_df.groupby('cluster_id').size().rename('size').reset_index()\n"
   ]
  },
  {
   "cell_type": "code",
   "execution_count": null,
   "metadata": {},
   "outputs": [],
   "source": [
    "\n",
    "scgenome.cncluster.plot_umap_clusters(plt.gca(), cluster_df)\n"
   ]
  },
  {
   "cell_type": "code",
   "execution_count": null,
   "metadata": {},
   "outputs": [],
   "source": [
    "\n",
    "if 'cluster_id' in cn_data:\n",
    "    cn_data = cn_data.drop('cluster_id', axis=1)\n",
    "cn_data = cn_data.merge(cluster_df[['cell_id', 'cluster_id']], on='cell_id')\n",
    "cn_data.head()\n"
   ]
  },
  {
   "cell_type": "code",
   "execution_count": null,
   "metadata": {},
   "outputs": [],
   "source": [
    "\n",
    "\n",
    "cn_data2 = cn_data.copy()\n",
    "cn_data2['clone_var'] = np.square(cn_data2['integer_copy_number'] - cn_data2['clone_cn'])\n",
    "clone_std = cn_data2.groupby('cell_id')['clone_var'].sum().pow(1./2).rename('clone_std').reset_index()\n",
    "clone_rms = cn_data2.groupby('cell_id')['clone_var'].mean().pow(1./2).rename('clone_rms').reset_index()\n",
    "\n",
    "cluster_df = cluster_df.merge(clone_std)\n",
    "cluster_df = cluster_df.merge(clone_rms)\n",
    "\n",
    "cluster_df['clone_std'] = cluster_df['clone_std']#.clip_upper(75.)\n",
    "\n",
    "fig = plt.figure(figsize=(8, 8))\n",
    "plt.scatter(\n",
    "    cluster_df['umap1'].values,\n",
    "    cluster_df['umap2'].values,\n",
    "    c=cluster_df['clone_std'].values,\n",
    "    cmap=plt.get_cmap(\"Reds\"),\n",
    "    s=2)\n",
    "\n",
    "fig = plt.figure()\n",
    "cluster_df['clone_std'].hist(bins=30)\n",
    "\n",
    "print len(cluster_df['cell_id'].unique())\n",
    "cluster_df = cluster_df[cluster_df['clone_std'] < 60.]\n",
    "print len(cluster_df['cell_id'].unique())\n",
    "clone_counts = cluster_df.groupby('cluster_id')['cell_id'].count()\n",
    "print clone_counts\n",
    "clone_counts_filter = clone_counts[clone_counts >= 50].reset_index()\n",
    "cluster_df = cluster_df.merge(clone_counts_filter[['cluster_id']])\n",
    "print len(cluster_df['cell_id'].unique())\n",
    "print cluster_df.groupby('cluster_id')['cell_id'].count().describe()\n",
    "\n",
    "cluster_df['is_filtered'] = cluster_df['clone_std'] < 60.\n",
    "seaborn.factorplot(data=cluster_df, x='is_filtered', y='clone_std', kind='strip', jitter=True)\n",
    "seaborn.factorplot(data=cluster_df, x='is_filtered', y='clone_rms', kind='strip', jitter=True)\n",
    "\n",
    "cn_data_filtered = cn_data[cn_data['cell_id'].isin(cluster_df['cell_id'].unique())]\n",
    "\n",
    "cluster_df.groupby('is_filtered')['clone_std'].describe()\n",
    "cluster_df.groupby('is_filtered')['clone_rms'].describe()\n",
    "\n",
    "# cn_data_filtered = cn_data.drop('cluster_id', axis=1).merge(cluster_df)\n",
    "# cn_data_filtered = cn_data_filtered.query('cluster_id >= 0')\n",
    "\n",
    "# cn_data_filtered.head()\n"
   ]
  },
  {
   "cell_type": "code",
   "execution_count": null,
   "metadata": {
    "scrolled": false
   },
   "outputs": [],
   "source": [
    "\n",
    "import scgenome.cnplot\n",
    "\n",
    "plot_data = cn_data_filtered.copy()\n",
    "bin_filter = (plot_data['gc'] <= 0) | (plot_data['copy'].isnull())\n",
    "plot_data.loc[plot_data['copy'] > 5, 'copy'] = 5.\n",
    "plot_data.loc[plot_data['copy'] < 0, 'copy'] = 0.\n",
    "\n",
    "fig = plt.figure(figsize=(20, 30))\n",
    "matrix_data = scgenome.cnplot.plot_clustered_cell_cn_matrix_figure(\n",
    "    fig, plot_data, 'copy', raw=True)\n"
   ]
  },
  {
   "cell_type": "code",
   "execution_count": null,
   "metadata": {},
   "outputs": [],
   "source": [
    "\n",
    "plot_data = cn_data_filtered.copy()\n",
    "bin_filter = (plot_data['gc'] <= 0) | (plot_data['copy'].isnull())\n",
    "plot_data.loc[bin_filter, 'state'] = 0\n",
    "\n",
    "fig = plt.figure(figsize=(20, 30))\n",
    "matrix_data = scgenome.cnplot.plot_clustered_cell_cn_matrix_figure(\n",
    "    fig, plot_data, 'state')\n"
   ]
  },
  {
   "cell_type": "code",
   "execution_count": null,
   "metadata": {
    "scrolled": false
   },
   "outputs": [],
   "source": [
    "\n",
    "breakpoint_data = (\n",
    "    metrics_data\n",
    "    .merge(cluster_df)\n",
    "    .groupby('cluster_id')['breakpoints']\n",
    "    .mean().reset_index()\n",
    "    .sort_values('breakpoints'))\n",
    "\n",
    "filtered_clusters = breakpoint_data[\n",
    "    (breakpoint_data['cluster_id'] >= 0) &\n",
    "    (breakpoint_data['breakpoints'] < 50.)\n",
    "]\n",
    "\n",
    "breakpoint_data['breakpoints'].hist(bins=40)\n",
    "\n",
    "breakpoint_data\n"
   ]
  },
  {
   "cell_type": "code",
   "execution_count": null,
   "metadata": {},
   "outputs": [],
   "source": [
    "\n",
    "cn_data_filtered2 = cn_data_filtered.merge(filtered_clusters)\n",
    "\n",
    "import scgenome.cnplot\n",
    "\n",
    "fig = plt.figure(figsize=(15, 16))\n",
    "scgenome.cnplot.plot_cluster_cn_matrix(fig, cn_data_filtered2, 'state')\n"
   ]
  },
  {
   "cell_type": "code",
   "execution_count": null,
   "metadata": {},
   "outputs": [],
   "source": [
    "\n",
    "cell_cn_matrix = cn_data.set_index(['chr', 'start', 'cell_id'])['copy'].unstack(level=2).fillna(0)\n",
    "cell_cn_matrix.head()\n"
   ]
  },
  {
   "cell_type": "code",
   "execution_count": null,
   "metadata": {},
   "outputs": [],
   "source": [
    "\n",
    "clone_cn = (\n",
    "    cn_data_filtered2.dropna().groupby(['chr', 'start', 'cluster_id'])['copy']\n",
    "    .median().reset_index())\n",
    "\n",
    "clone_cn_matrix = clone_cn.set_index(['chr', 'start', 'cluster_id'])['copy'].unstack(level=2).fillna(0)\n",
    "clone_cn_matrix.head()\n"
   ]
  },
  {
   "cell_type": "code",
   "execution_count": null,
   "metadata": {},
   "outputs": [],
   "source": [
    "\n",
    "cell_clone_corr = {}\n",
    "for cluster_id in clone_cn_matrix.columns:\n",
    "    print cluster_id\n",
    "    cell_clone_corr[cluster_id] = cell_cn_matrix.corrwith(clone_cn_matrix[cluster_id])\n"
   ]
  },
  {
   "cell_type": "code",
   "execution_count": null,
   "metadata": {},
   "outputs": [],
   "source": [
    "\n",
    "recluster_df = pd.DataFrame(cell_clone_corr).idxmax(axis=1).dropna().astype(int)\n",
    "recluster_df.name = 'recluster_id'\n",
    "recluster_df = recluster_df.reset_index()\n",
    "recluster_df.head()\n",
    "\n",
    "metrics_data.merge(recluster_df).groupby('recluster_id')['is_s_phase'].mean()\n"
   ]
  },
  {
   "cell_type": "code",
   "execution_count": 47,
   "metadata": {},
   "outputs": [
    {
     "name": "stdout",
     "output_type": "stream",
     "text": [
      "0\n",
      "0\n"
     ]
    },
    {
     "ename": "IndexError",
     "evalue": "index 5 is out of bounds for axis 0 with size 0",
     "output_type": "error",
     "traceback": [
      "\u001b[0;31m\u001b[0m",
      "\u001b[0;31mIndexError\u001b[0mTraceback (most recent call last)",
      "\u001b[0;32m<ipython-input-47-41e595340137>\u001b[0m in \u001b[0;36m<module>\u001b[0;34m()\u001b[0m\n\u001b[1;32m     11\u001b[0m \u001b[0;32mprint\u001b[0m \u001b[0mlen\u001b[0m\u001b[0;34m(\u001b[0m\u001b[0ms_cell_ids\u001b[0m\u001b[0;34m)\u001b[0m\u001b[0;34m\u001b[0m\u001b[0m\n\u001b[1;32m     12\u001b[0m \u001b[0;34m\u001b[0m\u001b[0m\n\u001b[0;32m---> 13\u001b[0;31m \u001b[0mcell_id\u001b[0m \u001b[0;34m=\u001b[0m \u001b[0mnon_s_cell_ids\u001b[0m\u001b[0;34m[\u001b[0m\u001b[0;36m5\u001b[0m\u001b[0;34m]\u001b[0m\u001b[0;34m\u001b[0m\u001b[0m\n\u001b[0m\u001b[1;32m     14\u001b[0m \u001b[0mcell_id\u001b[0m \u001b[0;34m=\u001b[0m \u001b[0ms_cell_ids\u001b[0m\u001b[0;34m[\u001b[0m\u001b[0;36m10\u001b[0m\u001b[0;34m]\u001b[0m\u001b[0;34m\u001b[0m\u001b[0m\n\u001b[1;32m     15\u001b[0m \u001b[0;34m\u001b[0m\u001b[0m\n",
      "\u001b[0;31mIndexError\u001b[0m: index 5 is out of bounds for axis 0 with size 0"
     ]
    }
   ],
   "source": [
    "\n",
    "plot_cluster_id = '34'\n",
    "\n",
    "non_s_cells = metrics_data[~metrics_data['is_s_phase']][['cell_id']]\n",
    "non_s_cell_ids = metrics_data.merge(recluster_df).merge(non_s_cells).query('recluster_id == ' + plot_cluster_id)['cell_id'].unique()\n",
    "\n",
    "s_cells = metrics_data[metrics_data['is_s_phase']][['cell_id']]\n",
    "s_cell_ids = metrics_data.merge(recluster_df).merge(s_cells).query('recluster_id == ' + plot_cluster_id)['cell_id'].unique()\n",
    "\n",
    "print len(non_s_cell_ids)\n",
    "print len(s_cell_ids)\n",
    "\n",
    "cell_id = non_s_cell_ids[5]\n",
    "cell_id = s_cell_ids[10]\n",
    "\n",
    "print cell_id\n",
    "\n",
    "metrics_data.query('cell_id == \"{}\"'.format(cell_id)).iloc[0]\n"
   ]
  },
  {
   "cell_type": "code",
   "execution_count": 93,
   "metadata": {},
   "outputs": [
    {
     "data": {
      "text/html": [
       "<div>\n",
       "<style scoped>\n",
       "    .dataframe tbody tr th:only-of-type {\n",
       "        vertical-align: middle;\n",
       "    }\n",
       "\n",
       "    .dataframe tbody tr th {\n",
       "        vertical-align: top;\n",
       "    }\n",
       "\n",
       "    .dataframe thead th {\n",
       "        text-align: right;\n",
       "    }\n",
       "</style>\n",
       "<table border=\"1\" class=\"dataframe\">\n",
       "  <thead>\n",
       "    <tr style=\"text-align: right;\">\n",
       "      <th></th>\n",
       "      <th>chr</th>\n",
       "      <th>start</th>\n",
       "      <th>end</th>\n",
       "      <th>cluster_id</th>\n",
       "      <th>clone_cn</th>\n",
       "    </tr>\n",
       "  </thead>\n",
       "  <tbody>\n",
       "    <tr>\n",
       "      <th>0</th>\n",
       "      <td>1</td>\n",
       "      <td>1</td>\n",
       "      <td>500000</td>\n",
       "      <td>-1</td>\n",
       "      <td>NaN</td>\n",
       "    </tr>\n",
       "    <tr>\n",
       "      <th>1</th>\n",
       "      <td>1</td>\n",
       "      <td>1</td>\n",
       "      <td>500000</td>\n",
       "      <td>0</td>\n",
       "      <td>NaN</td>\n",
       "    </tr>\n",
       "    <tr>\n",
       "      <th>2</th>\n",
       "      <td>1</td>\n",
       "      <td>1</td>\n",
       "      <td>500000</td>\n",
       "      <td>1</td>\n",
       "      <td>NaN</td>\n",
       "    </tr>\n",
       "    <tr>\n",
       "      <th>3</th>\n",
       "      <td>1</td>\n",
       "      <td>1</td>\n",
       "      <td>500000</td>\n",
       "      <td>2</td>\n",
       "      <td>NaN</td>\n",
       "    </tr>\n",
       "    <tr>\n",
       "      <th>4</th>\n",
       "      <td>1</td>\n",
       "      <td>1</td>\n",
       "      <td>500000</td>\n",
       "      <td>3</td>\n",
       "      <td>NaN</td>\n",
       "    </tr>\n",
       "  </tbody>\n",
       "</table>\n",
       "</div>"
      ],
      "text/plain": [
       "  chr  start     end  cluster_id  clone_cn\n",
       "0   1      1  500000          -1       NaN\n",
       "1   1      1  500000           0       NaN\n",
       "2   1      1  500000           1       NaN\n",
       "3   1      1  500000           2       NaN\n",
       "4   1      1  500000           3       NaN"
      ]
     },
     "execution_count": 93,
     "metadata": {},
     "output_type": "execute_result"
    }
   ],
   "source": [
    "\n",
    "clone_cn = (\n",
    "    cn_data.merge(cluster_df).groupby(['chr', 'start', 'end', 'cluster_id'])['copy']\n",
    "    .median().rename('clone_cn').reset_index())\n",
    "\n",
    "clone_cn.head()\n"
   ]
  },
  {
   "cell_type": "code",
   "execution_count": 98,
   "metadata": {},
   "outputs": [
    {
     "data": {
      "text/html": [
       "<div>\n",
       "<style scoped>\n",
       "    .dataframe tbody tr th:only-of-type {\n",
       "        vertical-align: middle;\n",
       "    }\n",
       "\n",
       "    .dataframe tbody tr th {\n",
       "        vertical-align: top;\n",
       "    }\n",
       "\n",
       "    .dataframe thead th {\n",
       "        text-align: right;\n",
       "    }\n",
       "</style>\n",
       "<table border=\"1\" class=\"dataframe\">\n",
       "  <thead>\n",
       "    <tr style=\"text-align: right;\">\n",
       "      <th></th>\n",
       "      <th>chr</th>\n",
       "      <th>start</th>\n",
       "      <th>end</th>\n",
       "      <th>cluster_id</th>\n",
       "      <th>copy</th>\n",
       "      <th>integer_copy_number</th>\n",
       "    </tr>\n",
       "  </thead>\n",
       "  <tbody>\n",
       "    <tr>\n",
       "      <th>0</th>\n",
       "      <td>1</td>\n",
       "      <td>1</td>\n",
       "      <td>500000</td>\n",
       "      <td>-1</td>\n",
       "      <td>NaN</td>\n",
       "      <td>2.0</td>\n",
       "    </tr>\n",
       "    <tr>\n",
       "      <th>1</th>\n",
       "      <td>1</td>\n",
       "      <td>1</td>\n",
       "      <td>500000</td>\n",
       "      <td>0</td>\n",
       "      <td>NaN</td>\n",
       "      <td>2.0</td>\n",
       "    </tr>\n",
       "    <tr>\n",
       "      <th>2</th>\n",
       "      <td>1</td>\n",
       "      <td>1</td>\n",
       "      <td>500000</td>\n",
       "      <td>1</td>\n",
       "      <td>NaN</td>\n",
       "      <td>2.0</td>\n",
       "    </tr>\n",
       "    <tr>\n",
       "      <th>3</th>\n",
       "      <td>1</td>\n",
       "      <td>1</td>\n",
       "      <td>500000</td>\n",
       "      <td>2</td>\n",
       "      <td>NaN</td>\n",
       "      <td>2.0</td>\n",
       "    </tr>\n",
       "    <tr>\n",
       "      <th>4</th>\n",
       "      <td>1</td>\n",
       "      <td>1</td>\n",
       "      <td>500000</td>\n",
       "      <td>3</td>\n",
       "      <td>NaN</td>\n",
       "      <td>2.0</td>\n",
       "    </tr>\n",
       "  </tbody>\n",
       "</table>\n",
       "</div>"
      ],
      "text/plain": [
       "  chr  start     end  cluster_id  copy  integer_copy_number\n",
       "0   1      1  500000          -1   NaN                  2.0\n",
       "1   1      1  500000           0   NaN                  2.0\n",
       "2   1      1  500000           1   NaN                  2.0\n",
       "3   1      1  500000           2   NaN                  2.0\n",
       "4   1      1  500000           3   NaN                  2.0"
      ]
     },
     "execution_count": 98,
     "metadata": {},
     "output_type": "execute_result"
    }
   ],
   "source": [
    "\n",
    "plot_clone_cn = (\n",
    "    cn_data\n",
    "    .merge(cluster_df)\n",
    "    .groupby(['chr', 'start', 'end', 'cluster_id'])\n",
    "    .agg({'copy': 'mean', 'integer_copy_number': 'median'})\n",
    "    .reset_index())\n",
    "plot_clone_cn.head()\n"
   ]
  },
  {
   "cell_type": "code",
   "execution_count": 128,
   "metadata": {},
   "outputs": [
    {
     "ename": "ImportError",
     "evalue": "C extension: hashtable not built. If you want to import pandas from the source directory, you may need to run 'python setup.py build_ext --inplace --force' to build the C extensions first.",
     "output_type": "error",
     "traceback": [
      "\u001b[0;31m\u001b[0m",
      "\u001b[0;31mImportError\u001b[0mTraceback (most recent call last)",
      "\u001b[0;32m<ipython-input-128-c428cf445577>\u001b[0m in \u001b[0;36m<module>\u001b[0;34m()\u001b[0m\n\u001b[1;32m      1\u001b[0m \u001b[0;34m\u001b[0m\u001b[0m\n\u001b[0;32m----> 2\u001b[0;31m \u001b[0mpd\u001b[0m \u001b[0;34m=\u001b[0m \u001b[0mreload\u001b[0m\u001b[0;34m(\u001b[0m\u001b[0mpd\u001b[0m\u001b[0;34m)\u001b[0m\u001b[0;34m\u001b[0m\u001b[0m\n\u001b[0m\u001b[1;32m      3\u001b[0m \u001b[0;32mprint\u001b[0m \u001b[0mpd\u001b[0m\u001b[0;34m.\u001b[0m\u001b[0m__version__\u001b[0m\u001b[0;34m\u001b[0m\u001b[0m\n\u001b[1;32m      4\u001b[0m \u001b[0;31m# clone_cn_matrix[cluster_id]\u001b[0m\u001b[0;34m\u001b[0m\u001b[0;34m\u001b[0m\u001b[0m\n\u001b[1;32m      5\u001b[0m \u001b[0mcell_cn_matrix\u001b[0m\u001b[0;34m\u001b[0m\u001b[0m\n",
      "\u001b[0;32m/anaconda/envs/py27/lib/python2.7/site-packages/pandas/__init__.pyc\u001b[0m in \u001b[0;36m<module>\u001b[0;34m()\u001b[0m\n\u001b[1;32m     33\u001b[0m                       \u001b[0;34m\"pandas from the source directory, you may need to run \"\u001b[0m\u001b[0;34m\u001b[0m\u001b[0m\n\u001b[1;32m     34\u001b[0m                       \u001b[0;34m\"'python setup.py build_ext --inplace --force' to build \"\u001b[0m\u001b[0;34m\u001b[0m\u001b[0m\n\u001b[0;32m---> 35\u001b[0;31m                       \"the C extensions first.\".format(module))\n\u001b[0m\u001b[1;32m     36\u001b[0m \u001b[0;34m\u001b[0m\u001b[0m\n\u001b[1;32m     37\u001b[0m \u001b[0;32mfrom\u001b[0m \u001b[0mdatetime\u001b[0m \u001b[0;32mimport\u001b[0m \u001b[0mdatetime\u001b[0m\u001b[0;34m\u001b[0m\u001b[0m\n",
      "\u001b[0;31mImportError\u001b[0m: C extension: hashtable not built. If you want to import pandas from the source directory, you may need to run 'python setup.py build_ext --inplace --force' to build the C extensions first."
     ]
    }
   ],
   "source": [
    "\n",
    "pd = reload(pd)\n",
    "print pd.__version__\n",
    "# clone_cn_matrix[cluster_id]\n",
    "cell_cn_matrix\n",
    "\n",
    "cell_clone_corr2 = {}\n",
    "for cluster_id in clone_cn_matrix.columns:\n",
    "    cell_cn_matrix2 = cell_cn_matrix.loc[:, cell_id:cell_id]\n",
    "    clone_cn_data = clone_cn_matrix[cluster_id].reindex(index=cell_cn_matrix2.index)\n",
    "    \n",
    "#     cell_cn_matrix1 = cell_cn_matrix.loc[:, cell_id:cell_id]\n",
    "#     cell_cn_matrix1, \n",
    "#     cell_clone_corr2[cluster_id] = (\n",
    "#         cell_cn_matrix\n",
    "#         .loc[:, cell_id:cell_id]\n",
    "#         .corrwith(clone_cn_matrix[cluster_id], method='pearson'))\n",
    "\n",
    "# # method : {‘pearson’, ‘kendall’, ‘spearman’} or callable\n",
    "# # pearson : standard correlation coefficient\n",
    "\n",
    "# pd.DataFrame(cell_clone_corr2).loc[cell_id].sort_values()\n"
   ]
  },
  {
   "cell_type": "code",
   "execution_count": 107,
   "metadata": {},
   "outputs": [
    {
     "data": {
      "image/png": "[encoded data removed]",
      "text/plain": [
       "<Figure size 1008x216 with 1 Axes>"
      ]
     },
     "metadata": {},
     "output_type": "display_data"
    },
    {
     "data": {
      "image/png": "[encoded data removed]",
      "text/plain": [
       "<Figure size 1008x216 with 1 Axes>"
      ]
     },
     "metadata": {},
     "output_type": "display_data"
    }
   ],
   "source": [
    "\n",
    "import matplotlib\n",
    "\n",
    "fig = plt.figure(figsize=(14, 3))\n",
    "ax = fig.add_subplot(111)\n",
    "scgenome.cnplot.plot_cell_cn_profile(\n",
    "    ax, plot_clone_cn.query('cluster_id == \"{}\"'.format('58')), 'copy', 'integer_copy_number')\n",
    "\n",
    "fig = plt.figure(figsize=(14, 3))\n",
    "ax = fig.add_subplot(111)\n",
    "scgenome.cnplot.plot_cell_cn_profile(\n",
    "    ax, cn_data.query('cell_id == \"{}\"'.format(cell_id)), 'copy', 'integer_copy_number')\n",
    "\n"
   ]
  },
  {
   "cell_type": "code",
   "execution_count": 35,
   "metadata": {},
   "outputs": [
    {
     "ename": "KeyError",
     "evalue": "'cluster_id'",
     "output_type": "error",
     "traceback": [
      "\u001b[0;31m\u001b[0m",
      "\u001b[0;31mKeyError\u001b[0mTraceback (most recent call last)",
      "\u001b[0;32m<ipython-input-35-2b09a4b355ae>\u001b[0m in \u001b[0;36m<module>\u001b[0;34m()\u001b[0m\n\u001b[1;32m      1\u001b[0m \u001b[0;34m\u001b[0m\u001b[0m\n\u001b[0;32m----> 2\u001b[0;31m \u001b[0mmetrics_data\u001b[0m\u001b[0;34m.\u001b[0m\u001b[0mgroupby\u001b[0m\u001b[0;34m(\u001b[0m\u001b[0;34m'cluster_id'\u001b[0m\u001b[0;34m)\u001b[0m\u001b[0;34m[\u001b[0m\u001b[0;34m'is_s_phase'\u001b[0m\u001b[0;34m]\u001b[0m\u001b[0;34m.\u001b[0m\u001b[0mmean\u001b[0m\u001b[0;34m(\u001b[0m\u001b[0;34m)\u001b[0m\u001b[0;34m\u001b[0m\u001b[0m\n\u001b[0m",
      "\u001b[0;32m/anaconda/envs/py27/lib/python2.7/site-packages/pandas/core/generic.pyc\u001b[0m in \u001b[0;36mgroupby\u001b[0;34m(self, by, axis, level, as_index, sort, group_keys, squeeze, **kwargs)\u001b[0m\n\u001b[1;32m   5160\u001b[0m         return groupby(self, by=by, axis=axis, level=level, as_index=as_index,\n\u001b[1;32m   5161\u001b[0m                        \u001b[0msort\u001b[0m\u001b[0;34m=\u001b[0m\u001b[0msort\u001b[0m\u001b[0;34m,\u001b[0m \u001b[0mgroup_keys\u001b[0m\u001b[0;34m=\u001b[0m\u001b[0mgroup_keys\u001b[0m\u001b[0;34m,\u001b[0m \u001b[0msqueeze\u001b[0m\u001b[0;34m=\u001b[0m\u001b[0msqueeze\u001b[0m\u001b[0;34m,\u001b[0m\u001b[0;34m\u001b[0m\u001b[0m\n\u001b[0;32m-> 5162\u001b[0;31m                        **kwargs)\n\u001b[0m\u001b[1;32m   5163\u001b[0m \u001b[0;34m\u001b[0m\u001b[0m\n\u001b[1;32m   5164\u001b[0m     def asfreq(self, freq, method=None, how=None, normalize=False,\n",
      "\u001b[0;32m/anaconda/envs/py27/lib/python2.7/site-packages/pandas/core/groupby.pyc\u001b[0m in \u001b[0;36mgroupby\u001b[0;34m(obj, by, **kwds)\u001b[0m\n\u001b[1;32m   1846\u001b[0m         \u001b[0;32mraise\u001b[0m \u001b[0mTypeError\u001b[0m\u001b[0;34m(\u001b[0m\u001b[0;34m'invalid type: %s'\u001b[0m \u001b[0;34m%\u001b[0m \u001b[0mtype\u001b[0m\u001b[0;34m(\u001b[0m\u001b[0mobj\u001b[0m\u001b[0;34m)\u001b[0m\u001b[0;34m)\u001b[0m\u001b[0;34m\u001b[0m\u001b[0m\n\u001b[1;32m   1847\u001b[0m \u001b[0;34m\u001b[0m\u001b[0m\n\u001b[0;32m-> 1848\u001b[0;31m     \u001b[0;32mreturn\u001b[0m \u001b[0mklass\u001b[0m\u001b[0;34m(\u001b[0m\u001b[0mobj\u001b[0m\u001b[0;34m,\u001b[0m \u001b[0mby\u001b[0m\u001b[0;34m,\u001b[0m \u001b[0;34m**\u001b[0m\u001b[0mkwds\u001b[0m\u001b[0;34m)\u001b[0m\u001b[0;34m\u001b[0m\u001b[0m\n\u001b[0m\u001b[1;32m   1849\u001b[0m \u001b[0;34m\u001b[0m\u001b[0m\n\u001b[1;32m   1850\u001b[0m \u001b[0;34m\u001b[0m\u001b[0m\n",
      "\u001b[0;32m/anaconda/envs/py27/lib/python2.7/site-packages/pandas/core/groupby.pyc\u001b[0m in \u001b[0;36m__init__\u001b[0;34m(self, obj, keys, axis, level, grouper, exclusions, selection, as_index, sort, group_keys, squeeze, **kwargs)\u001b[0m\n\u001b[1;32m    514\u001b[0m                                                     \u001b[0mlevel\u001b[0m\u001b[0;34m=\u001b[0m\u001b[0mlevel\u001b[0m\u001b[0;34m,\u001b[0m\u001b[0;34m\u001b[0m\u001b[0m\n\u001b[1;32m    515\u001b[0m                                                     \u001b[0msort\u001b[0m\u001b[0;34m=\u001b[0m\u001b[0msort\u001b[0m\u001b[0;34m,\u001b[0m\u001b[0;34m\u001b[0m\u001b[0m\n\u001b[0;32m--> 516\u001b[0;31m                                                     mutated=self.mutated)\n\u001b[0m\u001b[1;32m    517\u001b[0m \u001b[0;34m\u001b[0m\u001b[0m\n\u001b[1;32m    518\u001b[0m         \u001b[0mself\u001b[0m\u001b[0;34m.\u001b[0m\u001b[0mobj\u001b[0m \u001b[0;34m=\u001b[0m \u001b[0mobj\u001b[0m\u001b[0;34m\u001b[0m\u001b[0m\n",
      "\u001b[0;32m/anaconda/envs/py27/lib/python2.7/site-packages/pandas/core/groupby.pyc\u001b[0m in \u001b[0;36m_get_grouper\u001b[0;34m(obj, key, axis, level, sort, mutated, validate)\u001b[0m\n\u001b[1;32m   2932\u001b[0m                 \u001b[0min_axis\u001b[0m\u001b[0;34m,\u001b[0m \u001b[0mname\u001b[0m\u001b[0;34m,\u001b[0m \u001b[0mlevel\u001b[0m\u001b[0;34m,\u001b[0m \u001b[0mgpr\u001b[0m \u001b[0;34m=\u001b[0m \u001b[0mFalse\u001b[0m\u001b[0;34m,\u001b[0m \u001b[0mNone\u001b[0m\u001b[0;34m,\u001b[0m \u001b[0mgpr\u001b[0m\u001b[0;34m,\u001b[0m \u001b[0mNone\u001b[0m\u001b[0;34m\u001b[0m\u001b[0m\n\u001b[1;32m   2933\u001b[0m             \u001b[0;32melse\u001b[0m\u001b[0;34m:\u001b[0m\u001b[0;34m\u001b[0m\u001b[0m\n\u001b[0;32m-> 2934\u001b[0;31m                 \u001b[0;32mraise\u001b[0m \u001b[0mKeyError\u001b[0m\u001b[0;34m(\u001b[0m\u001b[0mgpr\u001b[0m\u001b[0;34m)\u001b[0m\u001b[0;34m\u001b[0m\u001b[0m\n\u001b[0m\u001b[1;32m   2935\u001b[0m         \u001b[0;32melif\u001b[0m \u001b[0misinstance\u001b[0m\u001b[0;34m(\u001b[0m\u001b[0mgpr\u001b[0m\u001b[0;34m,\u001b[0m \u001b[0mGrouper\u001b[0m\u001b[0;34m)\u001b[0m \u001b[0;32mand\u001b[0m \u001b[0mgpr\u001b[0m\u001b[0;34m.\u001b[0m\u001b[0mkey\u001b[0m \u001b[0;32mis\u001b[0m \u001b[0;32mnot\u001b[0m \u001b[0mNone\u001b[0m\u001b[0;34m:\u001b[0m\u001b[0;34m\u001b[0m\u001b[0m\n\u001b[1;32m   2936\u001b[0m             \u001b[0;31m# Add key to exclusions\u001b[0m\u001b[0;34m\u001b[0m\u001b[0;34m\u001b[0m\u001b[0m\n",
      "\u001b[0;31mKeyError\u001b[0m: 'cluster_id'"
     ]
    }
   ],
   "source": [
    "\n",
    "metrics_data.groupby('cluster_id')['is_s_phase'].mean()\n"
   ]
  },
  {
   "cell_type": "code",
   "execution_count": 130,
   "metadata": {},
   "outputs": [
    {
     "data": {
      "text/plain": [
       "<matplotlib.axes._subplots.AxesSubplot at 0x7fad3da46e10>"
      ]
     },
     "execution_count": 130,
     "metadata": {},
     "output_type": "execute_result"
    },
    {
     "data": {
      "image/png": "[encoded data removed]",
      "text/plain": [
       "<Figure size 2160x144 with 2 Axes>"
      ]
     },
     "metadata": {},
     "output_type": "display_data"
    }
   ],
   "source": [
    "\n",
    "plot_data = metrics_data.merge(recluster_df).groupby(['recluster_id', 'sample_id']).size().unstack(fill_value=0).T\n",
    "plt.figure(figsize=(30, 2))\n",
    "seaborn.heatmap(plot_data, annot=True, fmt=\"d\", linewidths=.5)\n"
   ]
  },
  {
   "cell_type": "code",
   "execution_count": 131,
   "metadata": {
    "scrolled": false
   },
   "outputs": [
    {
     "data": {
      "text/plain": [
       "<seaborn.axisgrid.FacetGrid at 0x7fad82a0f550>"
      ]
     },
     "execution_count": 131,
     "metadata": {},
     "output_type": "execute_result"
    },
    {
     "data": {
      "image/png": "[encoded data removed]",
      "text/plain": [
       "<Figure size 720x360 with 1 Axes>"
      ]
     },
     "metadata": {},
     "output_type": "display_data"
    },
    {
     "data": {
      "image/png": "[encoded data removed]",
      "text/plain": [
       "<Figure size 720x360 with 1 Axes>"
      ]
     },
     "metadata": {},
     "output_type": "display_data"
    }
   ],
   "source": [
    "\n",
    "plot_data = metrics_data.merge(recluster_df).groupby('recluster_id').agg({'is_s_phase': (np.sum, len, np.mean)}).reset_index()\n",
    "plot_data.columns = ['clone', 'sum', 'len', 'proportion']\n",
    "plot_data = plot_data[plot_data['len'] > 100]\n",
    "# plot_data = plot_data.stack()\n",
    "plot_data\n",
    "# .stack().reset_index()\n",
    "# plot_data.columns = ['clone', 'feature', 'is_s_phase']\n",
    "\n",
    "seaborn.factorplot(x='clone', y='proportion', kind='bar', data=plot_data, color='0.5', aspect=2)\n",
    "seaborn.factorplot(x='clone', y='len', kind='bar', data=plot_data, color='0.5', aspect=2)\n",
    "\n"
   ]
  },
  {
   "cell_type": "code",
   "execution_count": 39,
   "metadata": {},
   "outputs": [
    {
     "data": {
      "text/plain": [
       "MBRSI_dispersion_non_integerness                  0.302992\n",
       "MBRSM_dispersion                                  0.277499\n",
       "MSRSI_non_integerness                             0.141317\n",
       "autocorrelation_hmmcopy                           0.472692\n",
       "breakpoints                                             95\n",
       "cell_call                                               C1\n",
       "cell_id                             SA1101-A96181C-R64-C28\n",
       "column                                                  28\n",
       "cv_hmmcopy                                        0.276638\n",
       "empty_bins_hmmcopy                                       0\n",
       "experimental_condition                                p50a\n",
       "img_col                                                 45\n",
       "index                                                    0\n",
       "index_i5                                             i5-64\n",
       "index_i7                                             i7-28\n",
       "index_sequence                                         NaN\n",
       "log_likelihood                                    -4461.64\n",
       "mad_hmmcopy                                       0.181706\n",
       "mad_neutral_state                                 0.157525\n",
       "mean_copy                                          1.93924\n",
       "mean_hmmcopy_reads_per_bin                          126.33\n",
       "mean_state_mads                                    0.11787\n",
       "mean_state_vars                                   0.218863\n",
       "median_hmmcopy_reads_per_bin                           132\n",
       "multiplier                                               2\n",
       "order                                                 1189\n",
       "primer_i5                                           TCTTCT\n",
       "primer_i7                                           CTATCT\n",
       "quality                                              0.228\n",
       "row                                                     64\n",
       "sample_id                                           SA1101\n",
       "sample_type                                              C\n",
       "scaled_halfiness                                   784.231\n",
       "state_mode                                               2\n",
       "std_hmmcopy_reads_per_bin                          38.4684\n",
       "total_halfiness                                    2234.47\n",
       "total_mapped_reads                                  673970\n",
       "true_multiplier                                    1.94647\n",
       "library_id                                         A96181C\n",
       "brief_cell_id                              A96181C-R64-C28\n",
       "is_s_phase                                           False\n",
       "cluster_id                                              28\n",
       "umap1                                             -3.07788\n",
       "umap2                                              0.69473\n",
       "Name: 0, dtype: object"
      ]
     },
     "execution_count": 39,
     "metadata": {},
     "output_type": "execute_result"
    }
   ],
   "source": [
    "\n",
    "metrics_data.iloc[0]\n"
   ]
  },
  {
   "cell_type": "code",
   "execution_count": 45,
   "metadata": {},
   "outputs": [
    {
     "data": {
      "text/html": [
       "<div>\n",
       "<style scoped>\n",
       "    .dataframe tbody tr th:only-of-type {\n",
       "        vertical-align: middle;\n",
       "    }\n",
       "\n",
       "    .dataframe tbody tr th {\n",
       "        vertical-align: top;\n",
       "    }\n",
       "\n",
       "    .dataframe thead th {\n",
       "        text-align: right;\n",
       "    }\n",
       "</style>\n",
       "<table border=\"1\" class=\"dataframe\">\n",
       "  <thead>\n",
       "    <tr style=\"text-align: right;\">\n",
       "      <th></th>\n",
       "      <th>count</th>\n",
       "      <th>Diameter</th>\n",
       "      <th>is_s_phase</th>\n",
       "    </tr>\n",
       "    <tr>\n",
       "      <th>recluster_id</th>\n",
       "      <th></th>\n",
       "      <th></th>\n",
       "      <th></th>\n",
       "    </tr>\n",
       "  </thead>\n",
       "  <tbody>\n",
       "    <tr>\n",
       "      <th>2</th>\n",
       "      <td>529</td>\n",
       "      <td>149.657845</td>\n",
       "      <td>0.306238</td>\n",
       "    </tr>\n",
       "    <tr>\n",
       "      <th>11</th>\n",
       "      <td>501</td>\n",
       "      <td>187.710579</td>\n",
       "      <td>0.219561</td>\n",
       "    </tr>\n",
       "    <tr>\n",
       "      <th>25</th>\n",
       "      <td>398</td>\n",
       "      <td>189.015075</td>\n",
       "      <td>0.286432</td>\n",
       "    </tr>\n",
       "  </tbody>\n",
       "</table>\n",
       "</div>"
      ],
      "text/plain": [
       "              count    Diameter  is_s_phase\n",
       "recluster_id                               \n",
       "2               529  149.657845    0.306238\n",
       "11              501  187.710579    0.219561\n",
       "25              398  189.015075    0.286432"
      ]
     },
     "execution_count": 45,
     "metadata": {},
     "output_type": "execute_result"
    },
    {
     "data": {
      "image/png": "[encoded data removed]",
      "text/plain": [
       "<Figure size 540x540 with 12 Axes>"
      ]
     },
     "metadata": {},
     "output_type": "display_data"
    }
   ],
   "source": [
    "\n",
    "plot_data = metrics_data.merge(image_feature_data, on=['brief_cell_id', 'library_id'])\n",
    "plot_data = plot_data.query('spotter == \"rachael\"')\n",
    "\n",
    "plot_data['count'] = 1\n",
    "plot_data = plot_data.merge(recluster_df).groupby('recluster_id').agg({'is_s_phase': np.mean, 'count': np.sum, 'Diameter': np.mean})\n",
    "plot_data = plot_data[plot_data['count'] > 100]\n",
    "# .stack()\n",
    "# plot_data = plot_data.reset_index()\n",
    "# plot_data.columns = ['clone', 'feature', 'value']\n",
    "\n",
    "seaborn.pairplot(plot_data)\n",
    "\n",
    "plot_data\n",
    "\n",
    "# plot_data.iloc[0]\n",
    "\n",
    "# seaborn.factorplot(\n",
    "# #     hue='is_s_phase',\n",
    "#     y='Diameter',\n",
    "#     x='cluster_id',\n",
    "#     kind='bar',\n",
    "#     data=plot_data,\n",
    "#     aspect=2,\n",
    "#     dodge=True,\n",
    "# )\n"
   ]
  }
 ],
 "metadata": {
  "kernelspec": {
   "display_name": "py27",
   "language": "python",
   "name": "py27"
  },
  "language_info": {
   "codemirror_mode": {
    "name": "ipython",
    "version": 2
   },
   "file_extension": ".py",
   "mimetype": "text/x-python",
   "name": "python",
   "nbconvert_exporter": "python",
   "pygments_lexer": "ipython2",
   "version": "2.7.15"
  }
 },
 "nbformat": 4,
 "nbformat_minor": 2
}
