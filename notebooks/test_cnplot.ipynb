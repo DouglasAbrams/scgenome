{
 "cells": [
  {
   "cell_type": "code",
   "execution_count": 1,
   "metadata": {
    "pycharm": {
     "is_executing": false
    }
   },
   "outputs": [],
   "source": [
    "import scipy.cluster.hierarchy as sch\n",
    "import pandas as pd\n",
    "from scgenome import cncluster\n",
    "from scgenome import cnplot\n",
    "import numpy as np\n",
    "import matplotlib.pyplot as plt"
   ]
  },
  {
   "cell_type": "code",
   "execution_count": 15,
   "metadata": {},
   "outputs": [
    {
     "name": "stdout",
     "output_type": "stream",
     "text": [
      "plot_data1\n",
      "cell_id         c1 c2 c3 c4 c5\n",
      "bhc_cluster_id   0  0  1  1  2\n",
      "origin_id_int    1  3  2  2  4\n",
      "chr_index start               \n",
      "0         0      1  2  3  4  5\n",
      "          2      1  2  3  4  5\n",
      "          4      1  2  3  4  5\n",
      "          6      1  2  3  4  5\n",
      "1         0      2  3  4  5  6\n",
      "          2      2  3  4  5  6\n",
      "          4      2  3  4  5  6\n",
      "          6      2  3  4  5  6\n",
      "ordering\n",
      "cell_id  bhc_cluster_id  origin_id_int\n",
      "c1       0               1                3\n",
      "c2       0               3                2\n",
      "c3       1               2                1\n",
      "c4       1               2                0\n",
      "c5       2               4                4\n",
      "Name: cell_order, dtype: int64\n",
      "plot_data2\n",
      "cell_id         c1 c2 c3 c4 c5\n",
      "bhc_cluster_id   0  0  1  1  2\n",
      "origin_id_int    1  3  2  2  4\n",
      "cell_order       3  2  1  0  4\n",
      "chr_index start               \n",
      "0         0      1  2  3  4  5\n",
      "          2      1  2  3  4  5\n",
      "          4      1  2  3  4  5\n",
      "          6      1  2  3  4  5\n",
      "1         0      2  3  4  5  6\n",
      "          2      2  3  4  5  6\n",
      "          4      2  3  4  5  6\n",
      "          6      2  3  4  5  6\n",
      "plot_data3\n",
      "cell_id         c4 c3 c2 c1 c5\n",
      "bhc_cluster_id   1  1  0  0  2\n",
      "origin_id_int    2  2  3  1  4\n",
      "cell_order       0  1  2  3  4\n",
      "chr_index start               \n",
      "0         0      4  3  2  1  5\n",
      "          2      4  3  2  1  5\n",
      "          4      4  3  2  1  5\n",
      "          6      4  3  2  1  5\n",
      "1         0      5  4  3  2  6\n",
      "          2      5  4  3  2  6\n",
      "          4      5  4  3  2  6\n",
      "          6      5  4  3  2  6\n",
      "plot_data4\n",
      "cell_id         c4 c3 c2 c1 c5\n",
      "bhc_cluster_id   1  1  0  0  2\n",
      "origin_id_int    2  2  3  1  4\n",
      "cell_order       0  1  2  3  4\n",
      "chr_index start               \n",
      "0         0      4  3  2  1  5\n",
      "          2      4  3  2  1  5\n",
      "          4      4  3  2  1  5\n",
      "          6      4  3  2  1  5\n",
      "1         0      5  4  3  2  6\n",
      "          2      5  4  3  2  6\n",
      "          4      5  4  3  2  6\n",
      "          6      5  4  3  2  6\n",
      "plot_data.T4\n",
      "chr_index                                        0           1         \n",
      "start                                            0  2  4  6  0  2  4  6\n",
      "cell_id bhc_cluster_id origin_id_int cell_order                        \n",
      "c4      1              2             0           4  4  4  4  5  5  5  5\n",
      "c3      1              2             1           3  3  3  3  4  4  4  4\n",
      "c2      0              3             2           2  2  2  2  3  3  3  3\n",
      "c1      0              1             3           1  1  1  1  2  2  2  2\n",
      "c5      2              4             4           5  5  5  5  6  6  6  6\n",
      "['c5', 'c1', 'c2', 'c3', 'c4']\n"
     ]
    },
    {
     "data": {
      "image/png": "[encoded data removed]",
      "text/plain": [
       "<Figure size 720x576 with 4 Axes>"
      ]
     },
     "metadata": {
      "needs_background": "light"
     },
     "output_type": "display_data"
    }
   ],
   "source": [
    "measurement = np.array([\n",
    "    [1,1,1,1],\n",
    "    [2,2,2,2],\n",
    "    [3,3,3,3],\n",
    "    [4,4,4,4],\n",
    "    [5,5,5,5],\n",
    "])\n",
    "\n",
    "linkage = np.array([\n",
    "    [0,1,1,2], # 5\n",
    "    [2,3,1,2], # 6\n",
    "    [5,6,2,4], # 7\n",
    "    [4,7,3,5]  # 8\n",
    "], dtype=\"float\")\n",
    "\n",
    "cn_data = pd.DataFrame(\n",
    "    data=[\n",
    "        #chr start end reads gc  copy state cell_id sample_id library_id origin_id origin_id_int, bhc_cluster_id\n",
    "        [\"1\",  0,    1,  1,    -1, 1, 1,    \"c1\",   \"s\",      \"l\",       \"o1\",     1,             0],\n",
    "        [\"1\",  2,    3,  1,    -1, 1, 1,    \"c1\",   \"s\",      \"l\",       \"o1\",     1,             0],\n",
    "        [\"1\",  4,    5,  1,    -1, 1, 1,    \"c1\",   \"s\",      \"l\",       \"o1\",     1,             0],\n",
    "        [\"1\",  6,    7,  1,    -1, 1, 1,    \"c1\",   \"s\",      \"l\",       \"o1\",     1,             0],\n",
    "        [\"2\",  0,    1,  1,    -1, 1, 2,    \"c1\",   \"s\",      \"l\",       \"o1\",     1,             0],\n",
    "        [\"2\",  2,    3,  1,    -1, 1, 2,    \"c1\",   \"s\",      \"l\",       \"o1\",     1,             0],\n",
    "        [\"2\",  4,    5,  1,    -1, 1, 2,    \"c1\",   \"s\",      \"l\",       \"o1\",     1,             0],\n",
    "        [\"2\",  6,    7,  1,    -1, 1, 2,    \"c1\",   \"s\",      \"l\",       \"o1\",     1,             0],\n",
    "        \n",
    "        [\"1\",  0,    1,  2,    -2, 2, 2,    \"c2\",   \"s\",      \"l\",       \"o1\",     3,             0],\n",
    "        [\"1\",  2,    3,  2,    -2, 2, 2,    \"c2\",   \"s\",      \"l\",       \"o1\",     3,             0],\n",
    "        [\"1\",  4,    5,  2,    -2, 2, 2,    \"c2\",   \"s\",      \"l\",       \"o1\",     3,             0],\n",
    "        [\"1\",  6,    7,  2,    -2, 2, 2,    \"c2\",   \"s\",      \"l\",       \"o1\",     3,             0],\n",
    "        [\"2\",  0,    1,  2,    -2, 2, 3,    \"c2\",   \"s\",      \"l\",       \"o1\",     3,             0],\n",
    "        [\"2\",  2,    3,  2,    -2, 2, 3,    \"c2\",   \"s\",      \"l\",       \"o1\",     3,             0],\n",
    "        [\"2\",  4,    5,  2,    -2, 2, 3,    \"c2\",   \"s\",      \"l\",       \"o1\",     3,             0],\n",
    "        [\"2\",  6,    7,  2,    -2, 2, 3,    \"c2\",   \"s\",      \"l\",       \"o1\",     3,             0],\n",
    "       \n",
    "        [\"1\",  0,    1,  3,    -3, 3, 3,    \"c3\",   \"s\",      \"l\",       \"o2\",     2,             1],\n",
    "        [\"1\",  2,    3,  3,    -3, 3, 3,    \"c3\",   \"s\",      \"l\",       \"o2\",     2,             1],\n",
    "        [\"1\",  4,    5,  3,    -3, 3, 3,    \"c3\",   \"s\",      \"l\",       \"o2\",     2,             1],\n",
    "        [\"1\",  6,    7,  3,    -3, 3, 3,    \"c3\",   \"s\",      \"l\",       \"o2\",     2,             1],\n",
    "        [\"2\",  0,    1,  3,    -3, 3, 4,    \"c3\",   \"s\",      \"l\",       \"o2\",     2,             1],\n",
    "        [\"2\",  2,    3,  3,    -3, 3, 4,    \"c3\",   \"s\",      \"l\",       \"o2\",     2,             1],\n",
    "        [\"2\",  4,    5,  3,    -3, 3, 4,    \"c3\",   \"s\",      \"l\",       \"o2\",     2,             1],\n",
    "        [\"2\",  6,    7,  3,    -3, 3, 4,    \"c3\",   \"s\",      \"l\",       \"o2\",     2,             1],\n",
    "       \n",
    "        [\"1\",  0,    1,  4,    -4, 4, 4,    \"c4\",   \"s\",      \"l\",       \"o2\",     2,             1],\n",
    "        [\"1\",  2,    3,  4,    -4, 4, 4,    \"c4\",   \"s\",      \"l\",       \"o2\",     2,             1],\n",
    "        [\"1\",  4,    5,  4,    -4, 4, 4,    \"c4\",   \"s\",      \"l\",       \"o2\",     2,             1],\n",
    "        [\"1\",  6,    7,  4,    -4, 4, 4,    \"c4\",   \"s\",      \"l\",       \"o2\",     2,             1],\n",
    "        [\"2\",  0,    1,  4,    -4, 4, 5,    \"c4\",   \"s\",      \"l\",       \"o2\",     2,             1],\n",
    "        [\"2\",  2,    3,  4,    -4, 4, 5,    \"c4\",   \"s\",      \"l\",       \"o2\",     2,             1],\n",
    "        [\"2\",  4,    5,  4,    -4, 4, 5,    \"c4\",   \"s\",      \"l\",       \"o2\",     2,             1],\n",
    "        [\"2\",  6,    7,  4,    -4, 4, 5,    \"c4\",   \"s\",      \"l\",       \"o2\",     2,             1],\n",
    "        \n",
    "        [\"1\",  0,    1,  5,    -5, 5, 5,    \"c5\",   \"s\",      \"l\",       \"o4\",     4,             2],\n",
    "        [\"1\",  2,    3,  5,    -5, 5, 5,    \"c5\",   \"s\",      \"l\",       \"o4\",     4,             2],\n",
    "        [\"1\",  4,    5,  5,    -5, 5, 5,    \"c5\",   \"s\",      \"l\",       \"o4\",     4,             2],\n",
    "        [\"1\",  6,    7,  5,    -5, 5, 5,    \"c5\",   \"s\",      \"l\",       \"o4\",     4,             2],\n",
    "        [\"2\",  0,    1,  5,    -5, 5, 6,    \"c5\",   \"s\",      \"l\",       \"o4\",     4,             2],\n",
    "        [\"2\",  2,    3,  5,    -5, 5, 6,    \"c5\",   \"s\",      \"l\",       \"o4\",     4,             2],\n",
    "        [\"2\",  4,    5,  5,    -5, 5, 6,    \"c5\",   \"s\",      \"l\",       \"o4\",     4,             2],\n",
    "        [\"2\",  6,    7,  5,    -5, 5, 6,    \"c5\",   \"s\",      \"l\",       \"o4\",     4,             2],\n",
    "        \n",
    "    ],\n",
    "    columns=['chr', 'start', 'end', 'reads', 'gc', 'copy', 'state', 'cell_id',\n",
    "             'sample_id', 'library_id', 'origin_id', 'origin_id_int', 'bhc_cluster_id']\n",
    ")\n",
    "\n",
    "fig = plt.figure(figsize=(10, 8))\n",
    "bimatrix_data = cnplot.plot_clustered_cell_cn_matrix_figure(\n",
    "    fig, cn_data, \"state\", cluster_field_name=\"bhc_cluster_id\",\n",
    "    linkage=linkage, origin_field_name=\"origin_id_int\", max_cn=8)\n",
    "leaves = sch.dendrogram(linkage, orientation=\"left\", no_plot=True)[\"leaves\"]\n",
    "cell_ids = [\"c1\",\"c2\",\"c3\",\"c4\",\"c5\"]\n",
    "print([cell_ids[i] for i in leaves])"
   ]
  }
 ],
 "metadata": {
  "kernelspec": {
   "display_name": "scg",
   "language": "python",
   "name": "scg"
  },
  "language_info": {
   "codemirror_mode": {
    "name": "ipython",
    "version": 3
   },
   "file_extension": ".py",
   "mimetype": "text/x-python",
   "name": "python",
   "nbconvert_exporter": "python",
   "pygments_lexer": "ipython3",
   "version": "3.7.4"
  },
  "pycharm": {
   "stem_cell": {
    "cell_type": "raw",
    "metadata": {
     "collapsed": false
    },
    "source": []
   }
  }
 },
 "nbformat": 4,
 "nbformat_minor": 4
}
